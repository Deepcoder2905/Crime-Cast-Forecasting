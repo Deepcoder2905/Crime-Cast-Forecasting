{
 "cells": [
  {
   "cell_type": "code",
   "execution_count": 1,
   "id": "b5a96a5d",
   "metadata": {
    "_cell_guid": "b1076dfc-b9ad-4769-8c92-a6c4dae69d19",
    "_uuid": "8f2839f25d086af736a60e9eeb907d3b93b6e0e5",
    "execution": {
     "iopub.execute_input": "2024-08-09T14:04:41.400404Z",
     "iopub.status.busy": "2024-08-09T14:04:41.399619Z",
     "iopub.status.idle": "2024-08-09T14:04:42.368737Z",
     "shell.execute_reply": "2024-08-09T14:04:42.367482Z"
    },
    "papermill": {
     "duration": 0.991321,
     "end_time": "2024-08-09T14:04:42.371395",
     "exception": false,
     "start_time": "2024-08-09T14:04:41.380074",
     "status": "completed"
    },
    "tags": []
   },
   "outputs": [
    {
     "name": "stdout",
     "output_type": "stream",
     "text": [
      "/kaggle/input/crime-cast-forecasting-crime-categories/sample.csv\n",
      "/kaggle/input/crime-cast-forecasting-crime-categories/train.csv\n",
      "/kaggle/input/crime-cast-forecasting-crime-categories/test.csv\n"
     ]
    }
   ],
   "source": [
    "# This Python 3 environment comes with many helpful analytics libraries installed\n",
    "# It is defined by the kaggle/python Docker image: https://github.com/kaggle/docker-python\n",
    "# For example, here's several helpful packages to load\n",
    "\n",
    "import numpy as np # linear algebra\n",
    "import pandas as pd # data processing, CSV file I/O (e.g. pd.read_csv)\n",
    "\n",
    "# Input data files are available in the read-only \"../input/\" directory\n",
    "# For example, running this (by clicking run or pressing Shift+Enter) will list all files under the input directory\n",
    "\n",
    "import os\n",
    "for dirname, _, filenames in os.walk('/kaggle/input'):\n",
    "    for filename in filenames:\n",
    "        print(os.path.join(dirname, filename))\n",
    "\n",
    "# You can write up to 20GB to the current directory (/kaggle/working/) that gets preserved as output when you create a version using \"Save & Run All\" \n",
    "# You can also write temporary files to /kaggle/temp/, but they won't be saved outside of the current session"
   ]
  },
  {
   "cell_type": "markdown",
   "id": "3a5860f4",
   "metadata": {
    "papermill": {
     "duration": 0.017262,
     "end_time": "2024-08-09T14:04:42.407162",
     "exception": false,
     "start_time": "2024-08-09T14:04:42.389900",
     "status": "completed"
    },
    "tags": []
   },
   "source": [
    "# Importing Important Libraries"
   ]
  },
  {
   "cell_type": "code",
   "execution_count": 2,
   "id": "bdcb807a",
   "metadata": {
    "execution": {
     "iopub.execute_input": "2024-08-09T14:04:42.445100Z",
     "iopub.status.busy": "2024-08-09T14:04:42.444253Z",
     "iopub.status.idle": "2024-08-09T14:04:44.852011Z",
     "shell.execute_reply": "2024-08-09T14:04:44.850837Z"
    },
    "papermill": {
     "duration": 2.429814,
     "end_time": "2024-08-09T14:04:44.854676",
     "exception": false,
     "start_time": "2024-08-09T14:04:42.424862",
     "status": "completed"
    },
    "tags": []
   },
   "outputs": [],
   "source": [
    "from sklearn.model_selection import train_test_split, GridSearchCV,RandomizedSearchCV\n",
    "from sklearn.tree import DecisionTreeClassifier\n",
    "from sklearn.impute import SimpleImputer\n",
    "from sklearn.preprocessing import OrdinalEncoder, StandardScaler,LabelEncoder, OneHotEncoder\n",
    "from sklearn.pipeline import Pipeline\n",
    "from sklearn.compose import ColumnTransformer\n",
    "from sklearn.ensemble import RandomForestClassifier, AdaBoostClassifier, BaggingClassifier, GradientBoostingClassifier,VotingClassifier\n",
    "from sklearn.neighbors import KNeighborsClassifier\n",
    "from sklearn.neural_network import MLPClassifier\n",
    "from sklearn.linear_model import LogisticRegression,LinearRegression\n",
    "from sklearn.svm import SVC\n",
    "from xgboost import XGBClassifier\n",
    "from sklearn.naive_bayes import GaussianNB\n",
    "from sklearn.metrics import accuracy_score,classification_report, confusion_matrix, ConfusionMatrixDisplay\n",
    "from sklearn.feature_selection import SelectFromModel, RFE\n",
    "from imblearn.over_sampling import SMOTE\n",
    "import matplotlib.pyplot as plt\n",
    "import seaborn as sns"
   ]
  },
  {
   "cell_type": "markdown",
   "id": "6e38e675",
   "metadata": {
    "papermill": {
     "duration": 0.017873,
     "end_time": "2024-08-09T14:04:44.889920",
     "exception": false,
     "start_time": "2024-08-09T14:04:44.872047",
     "status": "completed"
    },
    "tags": []
   },
   "source": [
    "# Loading The Datasets"
   ]
  },
  {
   "cell_type": "code",
   "execution_count": 3,
   "id": "e86fb607",
   "metadata": {
    "execution": {
     "iopub.execute_input": "2024-08-09T14:04:44.927281Z",
     "iopub.status.busy": "2024-08-09T14:04:44.925999Z",
     "iopub.status.idle": "2024-08-09T14:04:45.166485Z",
     "shell.execute_reply": "2024-08-09T14:04:45.165547Z"
    },
    "papermill": {
     "duration": 0.262014,
     "end_time": "2024-08-09T14:04:45.169215",
     "exception": false,
     "start_time": "2024-08-09T14:04:44.907201",
     "status": "completed"
    },
    "tags": []
   },
   "outputs": [],
   "source": [
    "df = pd.read_csv('/kaggle/input/crime-cast-forecasting-crime-categories/train.csv')\n",
    "df_test = pd.read_csv('/kaggle/input/crime-cast-forecasting-crime-categories/test.csv')\n"
   ]
  },
  {
   "cell_type": "markdown",
   "id": "4f458c85",
   "metadata": {
    "papermill": {
     "duration": 0.017303,
     "end_time": "2024-08-09T14:04:45.204056",
     "exception": false,
     "start_time": "2024-08-09T14:04:45.186753",
     "status": "completed"
    },
    "tags": []
   },
   "source": [
    "# Performing EDA"
   ]
  },
  {
   "cell_type": "code",
   "execution_count": 4,
   "id": "8d16968d",
   "metadata": {
    "execution": {
     "iopub.execute_input": "2024-08-09T14:04:45.240539Z",
     "iopub.status.busy": "2024-08-09T14:04:45.240132Z",
     "iopub.status.idle": "2024-08-09T14:04:45.285325Z",
     "shell.execute_reply": "2024-08-09T14:04:45.284256Z"
    },
    "papermill": {
     "duration": 0.066481,
     "end_time": "2024-08-09T14:04:45.287825",
     "exception": false,
     "start_time": "2024-08-09T14:04:45.221344",
     "status": "completed"
    },
    "tags": []
   },
   "outputs": [
    {
     "data": {
      "text/html": [
       "<div>\n",
       "<style scoped>\n",
       "    .dataframe tbody tr th:only-of-type {\n",
       "        vertical-align: middle;\n",
       "    }\n",
       "\n",
       "    .dataframe tbody tr th {\n",
       "        vertical-align: top;\n",
       "    }\n",
       "\n",
       "    .dataframe thead th {\n",
       "        text-align: right;\n",
       "    }\n",
       "</style>\n",
       "<table border=\"1\" class=\"dataframe\">\n",
       "  <thead>\n",
       "    <tr style=\"text-align: right;\">\n",
       "      <th></th>\n",
       "      <th>Location</th>\n",
       "      <th>Cross_Street</th>\n",
       "      <th>Latitude</th>\n",
       "      <th>Longitude</th>\n",
       "      <th>Date_Reported</th>\n",
       "      <th>Date_Occurred</th>\n",
       "      <th>Time_Occurred</th>\n",
       "      <th>Area_ID</th>\n",
       "      <th>Area_Name</th>\n",
       "      <th>Reporting_District_no</th>\n",
       "      <th>...</th>\n",
       "      <th>Victim_Age</th>\n",
       "      <th>Victim_Sex</th>\n",
       "      <th>Victim_Descent</th>\n",
       "      <th>Premise_Code</th>\n",
       "      <th>Premise_Description</th>\n",
       "      <th>Weapon_Used_Code</th>\n",
       "      <th>Weapon_Description</th>\n",
       "      <th>Status</th>\n",
       "      <th>Status_Description</th>\n",
       "      <th>Crime_Category</th>\n",
       "    </tr>\n",
       "  </thead>\n",
       "  <tbody>\n",
       "    <tr>\n",
       "      <th>0</th>\n",
       "      <td>4500    CARPENTER                    AV</td>\n",
       "      <td>NaN</td>\n",
       "      <td>34.1522</td>\n",
       "      <td>-118.3910</td>\n",
       "      <td>03/09/2020 12:00:00 AM</td>\n",
       "      <td>03/06/2020 12:00:00 AM</td>\n",
       "      <td>1800.0</td>\n",
       "      <td>15.0</td>\n",
       "      <td>N Hollywood</td>\n",
       "      <td>1563.0</td>\n",
       "      <td>...</td>\n",
       "      <td>75.0</td>\n",
       "      <td>M</td>\n",
       "      <td>W</td>\n",
       "      <td>101.0</td>\n",
       "      <td>STREET</td>\n",
       "      <td>NaN</td>\n",
       "      <td>NaN</td>\n",
       "      <td>IC</td>\n",
       "      <td>Invest Cont</td>\n",
       "      <td>Property Crimes</td>\n",
       "    </tr>\n",
       "    <tr>\n",
       "      <th>1</th>\n",
       "      <td>45TH                         ST</td>\n",
       "      <td>ALAMEDA                      ST</td>\n",
       "      <td>34.0028</td>\n",
       "      <td>-118.2391</td>\n",
       "      <td>02/27/2020 12:00:00 AM</td>\n",
       "      <td>02/27/2020 12:00:00 AM</td>\n",
       "      <td>1345.0</td>\n",
       "      <td>13.0</td>\n",
       "      <td>Newton</td>\n",
       "      <td>1367.0</td>\n",
       "      <td>...</td>\n",
       "      <td>41.0</td>\n",
       "      <td>M</td>\n",
       "      <td>H</td>\n",
       "      <td>216.0</td>\n",
       "      <td>SWAP MEET</td>\n",
       "      <td>400.0</td>\n",
       "      <td>STRONG-ARM (HANDS, FIST, FEET OR BODILY FORCE)</td>\n",
       "      <td>IC</td>\n",
       "      <td>Invest Cont</td>\n",
       "      <td>Property Crimes</td>\n",
       "    </tr>\n",
       "    <tr>\n",
       "      <th>2</th>\n",
       "      <td>600 E  MARTIN LUTHER KING JR        BL</td>\n",
       "      <td>NaN</td>\n",
       "      <td>34.0111</td>\n",
       "      <td>-118.2653</td>\n",
       "      <td>08/21/2020 12:00:00 AM</td>\n",
       "      <td>08/21/2020 12:00:00 AM</td>\n",
       "      <td>605.0</td>\n",
       "      <td>13.0</td>\n",
       "      <td>Newton</td>\n",
       "      <td>1343.0</td>\n",
       "      <td>...</td>\n",
       "      <td>67.0</td>\n",
       "      <td>M</td>\n",
       "      <td>B</td>\n",
       "      <td>501.0</td>\n",
       "      <td>SINGLE FAMILY DWELLING</td>\n",
       "      <td>NaN</td>\n",
       "      <td>NaN</td>\n",
       "      <td>IC</td>\n",
       "      <td>Invest Cont</td>\n",
       "      <td>Property Crimes</td>\n",
       "    </tr>\n",
       "    <tr>\n",
       "      <th>3</th>\n",
       "      <td>14900    ORO GRANDE                   ST</td>\n",
       "      <td>NaN</td>\n",
       "      <td>34.2953</td>\n",
       "      <td>-118.4590</td>\n",
       "      <td>11/08/2020 12:00:00 AM</td>\n",
       "      <td>11/06/2020 12:00:00 AM</td>\n",
       "      <td>1800.0</td>\n",
       "      <td>19.0</td>\n",
       "      <td>Mission</td>\n",
       "      <td>1924.0</td>\n",
       "      <td>...</td>\n",
       "      <td>61.0</td>\n",
       "      <td>M</td>\n",
       "      <td>H</td>\n",
       "      <td>101.0</td>\n",
       "      <td>STREET</td>\n",
       "      <td>NaN</td>\n",
       "      <td>NaN</td>\n",
       "      <td>IC</td>\n",
       "      <td>Invest Cont</td>\n",
       "      <td>Property Crimes</td>\n",
       "    </tr>\n",
       "    <tr>\n",
       "      <th>4</th>\n",
       "      <td>7100 S  VERMONT                      AV</td>\n",
       "      <td>NaN</td>\n",
       "      <td>33.9787</td>\n",
       "      <td>-118.2918</td>\n",
       "      <td>02/25/2020 12:00:00 AM</td>\n",
       "      <td>02/25/2020 12:00:00 AM</td>\n",
       "      <td>1130.0</td>\n",
       "      <td>12.0</td>\n",
       "      <td>77th Street</td>\n",
       "      <td>1245.0</td>\n",
       "      <td>...</td>\n",
       "      <td>0.0</td>\n",
       "      <td>X</td>\n",
       "      <td>X</td>\n",
       "      <td>401.0</td>\n",
       "      <td>MINI-MART</td>\n",
       "      <td>400.0</td>\n",
       "      <td>STRONG-ARM (HANDS, FIST, FEET OR BODILY FORCE)</td>\n",
       "      <td>IC</td>\n",
       "      <td>Invest Cont</td>\n",
       "      <td>Property Crimes</td>\n",
       "    </tr>\n",
       "  </tbody>\n",
       "</table>\n",
       "<p>5 rows × 22 columns</p>\n",
       "</div>"
      ],
      "text/plain": [
       "                                   Location                     Cross_Street  \\\n",
       "0   4500    CARPENTER                    AV                              NaN   \n",
       "1           45TH                         ST  ALAMEDA                      ST   \n",
       "2    600 E  MARTIN LUTHER KING JR        BL                              NaN   \n",
       "3  14900    ORO GRANDE                   ST                              NaN   \n",
       "4   7100 S  VERMONT                      AV                              NaN   \n",
       "\n",
       "   Latitude  Longitude           Date_Reported           Date_Occurred  \\\n",
       "0   34.1522  -118.3910  03/09/2020 12:00:00 AM  03/06/2020 12:00:00 AM   \n",
       "1   34.0028  -118.2391  02/27/2020 12:00:00 AM  02/27/2020 12:00:00 AM   \n",
       "2   34.0111  -118.2653  08/21/2020 12:00:00 AM  08/21/2020 12:00:00 AM   \n",
       "3   34.2953  -118.4590  11/08/2020 12:00:00 AM  11/06/2020 12:00:00 AM   \n",
       "4   33.9787  -118.2918  02/25/2020 12:00:00 AM  02/25/2020 12:00:00 AM   \n",
       "\n",
       "   Time_Occurred  Area_ID    Area_Name  Reporting_District_no  ...  \\\n",
       "0         1800.0     15.0  N Hollywood                 1563.0  ...   \n",
       "1         1345.0     13.0       Newton                 1367.0  ...   \n",
       "2          605.0     13.0       Newton                 1343.0  ...   \n",
       "3         1800.0     19.0      Mission                 1924.0  ...   \n",
       "4         1130.0     12.0  77th Street                 1245.0  ...   \n",
       "\n",
       "   Victim_Age Victim_Sex  Victim_Descent Premise_Code     Premise_Description  \\\n",
       "0        75.0          M               W        101.0                  STREET   \n",
       "1        41.0          M               H        216.0               SWAP MEET   \n",
       "2        67.0          M               B        501.0  SINGLE FAMILY DWELLING   \n",
       "3        61.0          M               H        101.0                  STREET   \n",
       "4         0.0          X               X        401.0               MINI-MART   \n",
       "\n",
       "   Weapon_Used_Code                              Weapon_Description  Status  \\\n",
       "0               NaN                                             NaN      IC   \n",
       "1             400.0  STRONG-ARM (HANDS, FIST, FEET OR BODILY FORCE)      IC   \n",
       "2               NaN                                             NaN      IC   \n",
       "3               NaN                                             NaN      IC   \n",
       "4             400.0  STRONG-ARM (HANDS, FIST, FEET OR BODILY FORCE)      IC   \n",
       "\n",
       "  Status_Description   Crime_Category  \n",
       "0        Invest Cont  Property Crimes  \n",
       "1        Invest Cont  Property Crimes  \n",
       "2        Invest Cont  Property Crimes  \n",
       "3        Invest Cont  Property Crimes  \n",
       "4        Invest Cont  Property Crimes  \n",
       "\n",
       "[5 rows x 22 columns]"
      ]
     },
     "execution_count": 4,
     "metadata": {},
     "output_type": "execute_result"
    }
   ],
   "source": [
    "df.head()"
   ]
  },
  {
   "cell_type": "code",
   "execution_count": 5,
   "id": "c9bac50d",
   "metadata": {
    "execution": {
     "iopub.execute_input": "2024-08-09T14:04:45.325974Z",
     "iopub.status.busy": "2024-08-09T14:04:45.325000Z",
     "iopub.status.idle": "2024-08-09T14:04:45.353863Z",
     "shell.execute_reply": "2024-08-09T14:04:45.352840Z"
    },
    "papermill": {
     "duration": 0.050437,
     "end_time": "2024-08-09T14:04:45.356247",
     "exception": false,
     "start_time": "2024-08-09T14:04:45.305810",
     "status": "completed"
    },
    "tags": []
   },
   "outputs": [
    {
     "data": {
      "text/html": [
       "<div>\n",
       "<style scoped>\n",
       "    .dataframe tbody tr th:only-of-type {\n",
       "        vertical-align: middle;\n",
       "    }\n",
       "\n",
       "    .dataframe tbody tr th {\n",
       "        vertical-align: top;\n",
       "    }\n",
       "\n",
       "    .dataframe thead th {\n",
       "        text-align: right;\n",
       "    }\n",
       "</style>\n",
       "<table border=\"1\" class=\"dataframe\">\n",
       "  <thead>\n",
       "    <tr style=\"text-align: right;\">\n",
       "      <th></th>\n",
       "      <th>Location</th>\n",
       "      <th>Cross_Street</th>\n",
       "      <th>Latitude</th>\n",
       "      <th>Longitude</th>\n",
       "      <th>Date_Reported</th>\n",
       "      <th>Date_Occurred</th>\n",
       "      <th>Time_Occurred</th>\n",
       "      <th>Area_ID</th>\n",
       "      <th>Area_Name</th>\n",
       "      <th>Reporting_District_no</th>\n",
       "      <th>...</th>\n",
       "      <th>Victim_Age</th>\n",
       "      <th>Victim_Sex</th>\n",
       "      <th>Victim_Descent</th>\n",
       "      <th>Premise_Code</th>\n",
       "      <th>Premise_Description</th>\n",
       "      <th>Weapon_Used_Code</th>\n",
       "      <th>Weapon_Description</th>\n",
       "      <th>Status</th>\n",
       "      <th>Status_Description</th>\n",
       "      <th>Crime_Category</th>\n",
       "    </tr>\n",
       "  </thead>\n",
       "  <tbody>\n",
       "    <tr>\n",
       "      <th>19995</th>\n",
       "      <td>5100 W  ADAMS                        BL</td>\n",
       "      <td>NaN</td>\n",
       "      <td>34.0334</td>\n",
       "      <td>-118.3523</td>\n",
       "      <td>05/24/2020 12:00:00 AM</td>\n",
       "      <td>05/24/2020 12:00:00 AM</td>\n",
       "      <td>700.0</td>\n",
       "      <td>3.0</td>\n",
       "      <td>Southwest</td>\n",
       "      <td>303.0</td>\n",
       "      <td>...</td>\n",
       "      <td>51.0</td>\n",
       "      <td>M</td>\n",
       "      <td>H</td>\n",
       "      <td>501.0</td>\n",
       "      <td>SINGLE FAMILY DWELLING</td>\n",
       "      <td>400.0</td>\n",
       "      <td>STRONG-ARM (HANDS, FIST, FEET OR BODILY FORCE)</td>\n",
       "      <td>IC</td>\n",
       "      <td>Invest Cont</td>\n",
       "      <td>Violent Crimes</td>\n",
       "    </tr>\n",
       "    <tr>\n",
       "      <th>19996</th>\n",
       "      <td>16900    ROSCOE                       BL</td>\n",
       "      <td>NaN</td>\n",
       "      <td>34.2212</td>\n",
       "      <td>-118.5011</td>\n",
       "      <td>12/25/2020 12:00:00 AM</td>\n",
       "      <td>12/25/2020 12:00:00 AM</td>\n",
       "      <td>259.0</td>\n",
       "      <td>10.0</td>\n",
       "      <td>West Valley</td>\n",
       "      <td>1008.0</td>\n",
       "      <td>...</td>\n",
       "      <td>0.0</td>\n",
       "      <td>M</td>\n",
       "      <td>W</td>\n",
       "      <td>301.0</td>\n",
       "      <td>GAS STATION</td>\n",
       "      <td>NaN</td>\n",
       "      <td>NaN</td>\n",
       "      <td>IC</td>\n",
       "      <td>Invest Cont</td>\n",
       "      <td>Property Crimes</td>\n",
       "    </tr>\n",
       "    <tr>\n",
       "      <th>19997</th>\n",
       "      <td>1000 S  SHENANDOAH                   ST</td>\n",
       "      <td>NaN</td>\n",
       "      <td>34.0571</td>\n",
       "      <td>-118.3815</td>\n",
       "      <td>09/25/2020 12:00:00 AM</td>\n",
       "      <td>09/25/2020 12:00:00 AM</td>\n",
       "      <td>1400.0</td>\n",
       "      <td>8.0</td>\n",
       "      <td>West LA</td>\n",
       "      <td>849.0</td>\n",
       "      <td>...</td>\n",
       "      <td>42.0</td>\n",
       "      <td>M</td>\n",
       "      <td>H</td>\n",
       "      <td>102.0</td>\n",
       "      <td>SIDEWALK</td>\n",
       "      <td>NaN</td>\n",
       "      <td>NaN</td>\n",
       "      <td>IC</td>\n",
       "      <td>Invest Cont</td>\n",
       "      <td>Property Crimes</td>\n",
       "    </tr>\n",
       "    <tr>\n",
       "      <th>19998</th>\n",
       "      <td>300 W  SEPULVEDA                    ST</td>\n",
       "      <td>NaN</td>\n",
       "      <td>33.7451</td>\n",
       "      <td>-118.2835</td>\n",
       "      <td>06/10/2020 12:00:00 AM</td>\n",
       "      <td>06/10/2020 12:00:00 AM</td>\n",
       "      <td>600.0</td>\n",
       "      <td>5.0</td>\n",
       "      <td>Harbor</td>\n",
       "      <td>558.0</td>\n",
       "      <td>...</td>\n",
       "      <td>76.0</td>\n",
       "      <td>F</td>\n",
       "      <td>H</td>\n",
       "      <td>501.0</td>\n",
       "      <td>SINGLE FAMILY DWELLING</td>\n",
       "      <td>NaN</td>\n",
       "      <td>NaN</td>\n",
       "      <td>IC</td>\n",
       "      <td>Invest Cont</td>\n",
       "      <td>Crimes against Public Order</td>\n",
       "    </tr>\n",
       "    <tr>\n",
       "      <th>19999</th>\n",
       "      <td>DALTON                       AV</td>\n",
       "      <td>VERNON                       AV</td>\n",
       "      <td>34.0037</td>\n",
       "      <td>-118.3034</td>\n",
       "      <td>02/18/2020 12:00:00 AM</td>\n",
       "      <td>02/17/2020 12:00:00 AM</td>\n",
       "      <td>1800.0</td>\n",
       "      <td>3.0</td>\n",
       "      <td>Southwest</td>\n",
       "      <td>397.0</td>\n",
       "      <td>...</td>\n",
       "      <td>0.0</td>\n",
       "      <td>NaN</td>\n",
       "      <td>NaN</td>\n",
       "      <td>101.0</td>\n",
       "      <td>STREET</td>\n",
       "      <td>NaN</td>\n",
       "      <td>NaN</td>\n",
       "      <td>IC</td>\n",
       "      <td>Invest Cont</td>\n",
       "      <td>Property Crimes</td>\n",
       "    </tr>\n",
       "  </tbody>\n",
       "</table>\n",
       "<p>5 rows × 22 columns</p>\n",
       "</div>"
      ],
      "text/plain": [
       "                                       Location  \\\n",
       "19995   5100 W  ADAMS                        BL   \n",
       "19996  16900    ROSCOE                       BL   \n",
       "19997   1000 S  SHENANDOAH                   ST   \n",
       "19998    300 W  SEPULVEDA                    ST   \n",
       "19999           DALTON                       AV   \n",
       "\n",
       "                          Cross_Street  Latitude  Longitude  \\\n",
       "19995                              NaN   34.0334  -118.3523   \n",
       "19996                              NaN   34.2212  -118.5011   \n",
       "19997                              NaN   34.0571  -118.3815   \n",
       "19998                              NaN   33.7451  -118.2835   \n",
       "19999  VERNON                       AV   34.0037  -118.3034   \n",
       "\n",
       "                Date_Reported           Date_Occurred  Time_Occurred  Area_ID  \\\n",
       "19995  05/24/2020 12:00:00 AM  05/24/2020 12:00:00 AM          700.0      3.0   \n",
       "19996  12/25/2020 12:00:00 AM  12/25/2020 12:00:00 AM          259.0     10.0   \n",
       "19997  09/25/2020 12:00:00 AM  09/25/2020 12:00:00 AM         1400.0      8.0   \n",
       "19998  06/10/2020 12:00:00 AM  06/10/2020 12:00:00 AM          600.0      5.0   \n",
       "19999  02/18/2020 12:00:00 AM  02/17/2020 12:00:00 AM         1800.0      3.0   \n",
       "\n",
       "         Area_Name  Reporting_District_no  ...  Victim_Age Victim_Sex  \\\n",
       "19995    Southwest                  303.0  ...        51.0          M   \n",
       "19996  West Valley                 1008.0  ...         0.0          M   \n",
       "19997      West LA                  849.0  ...        42.0          M   \n",
       "19998       Harbor                  558.0  ...        76.0          F   \n",
       "19999    Southwest                  397.0  ...         0.0        NaN   \n",
       "\n",
       "       Victim_Descent Premise_Code     Premise_Description  Weapon_Used_Code  \\\n",
       "19995               H        501.0  SINGLE FAMILY DWELLING             400.0   \n",
       "19996               W        301.0             GAS STATION               NaN   \n",
       "19997               H        102.0                SIDEWALK               NaN   \n",
       "19998               H        501.0  SINGLE FAMILY DWELLING               NaN   \n",
       "19999             NaN        101.0                  STREET               NaN   \n",
       "\n",
       "                                   Weapon_Description  Status  \\\n",
       "19995  STRONG-ARM (HANDS, FIST, FEET OR BODILY FORCE)      IC   \n",
       "19996                                             NaN      IC   \n",
       "19997                                             NaN      IC   \n",
       "19998                                             NaN      IC   \n",
       "19999                                             NaN      IC   \n",
       "\n",
       "      Status_Description               Crime_Category  \n",
       "19995        Invest Cont               Violent Crimes  \n",
       "19996        Invest Cont              Property Crimes  \n",
       "19997        Invest Cont              Property Crimes  \n",
       "19998        Invest Cont  Crimes against Public Order  \n",
       "19999        Invest Cont              Property Crimes  \n",
       "\n",
       "[5 rows x 22 columns]"
      ]
     },
     "execution_count": 5,
     "metadata": {},
     "output_type": "execute_result"
    }
   ],
   "source": [
    "df.tail()"
   ]
  },
  {
   "cell_type": "code",
   "execution_count": 6,
   "id": "86fb8df0",
   "metadata": {
    "execution": {
     "iopub.execute_input": "2024-08-09T14:04:45.396094Z",
     "iopub.status.busy": "2024-08-09T14:04:45.395732Z",
     "iopub.status.idle": "2024-08-09T14:04:45.441450Z",
     "shell.execute_reply": "2024-08-09T14:04:45.440422Z"
    },
    "papermill": {
     "duration": 0.068192,
     "end_time": "2024-08-09T14:04:45.444329",
     "exception": false,
     "start_time": "2024-08-09T14:04:45.376137",
     "status": "completed"
    },
    "tags": []
   },
   "outputs": [
    {
     "data": {
      "text/html": [
       "<div>\n",
       "<style scoped>\n",
       "    .dataframe tbody tr th:only-of-type {\n",
       "        vertical-align: middle;\n",
       "    }\n",
       "\n",
       "    .dataframe tbody tr th {\n",
       "        vertical-align: top;\n",
       "    }\n",
       "\n",
       "    .dataframe thead th {\n",
       "        text-align: right;\n",
       "    }\n",
       "</style>\n",
       "<table border=\"1\" class=\"dataframe\">\n",
       "  <thead>\n",
       "    <tr style=\"text-align: right;\">\n",
       "      <th></th>\n",
       "      <th>Latitude</th>\n",
       "      <th>Longitude</th>\n",
       "      <th>Time_Occurred</th>\n",
       "      <th>Area_ID</th>\n",
       "      <th>Reporting_District_no</th>\n",
       "      <th>Part 1-2</th>\n",
       "      <th>Victim_Age</th>\n",
       "      <th>Premise_Code</th>\n",
       "      <th>Weapon_Used_Code</th>\n",
       "    </tr>\n",
       "  </thead>\n",
       "  <tbody>\n",
       "    <tr>\n",
       "      <th>count</th>\n",
       "      <td>20000.000000</td>\n",
       "      <td>20000.000000</td>\n",
       "      <td>20000.000000</td>\n",
       "      <td>20000.000000</td>\n",
       "      <td>20000.000000</td>\n",
       "      <td>20000.000000</td>\n",
       "      <td>20000.000000</td>\n",
       "      <td>20000.000000</td>\n",
       "      <td>7335.000000</td>\n",
       "    </tr>\n",
       "    <tr>\n",
       "      <th>mean</th>\n",
       "      <td>33.940704</td>\n",
       "      <td>-117.893072</td>\n",
       "      <td>1352.380350</td>\n",
       "      <td>10.834250</td>\n",
       "      <td>1129.599200</td>\n",
       "      <td>1.418150</td>\n",
       "      <td>30.135000</td>\n",
       "      <td>297.176950</td>\n",
       "      <td>366.405044</td>\n",
       "    </tr>\n",
       "    <tr>\n",
       "      <th>std</th>\n",
       "      <td>2.126810</td>\n",
       "      <td>7.377726</td>\n",
       "      <td>646.100291</td>\n",
       "      <td>6.033166</td>\n",
       "      <td>603.330519</td>\n",
       "      <td>0.493267</td>\n",
       "      <td>21.863645</td>\n",
       "      <td>212.007298</td>\n",
       "      <td>120.485687</td>\n",
       "    </tr>\n",
       "    <tr>\n",
       "      <th>min</th>\n",
       "      <td>0.000000</td>\n",
       "      <td>-118.663400</td>\n",
       "      <td>1.000000</td>\n",
       "      <td>1.000000</td>\n",
       "      <td>101.000000</td>\n",
       "      <td>1.000000</td>\n",
       "      <td>-2.000000</td>\n",
       "      <td>101.000000</td>\n",
       "      <td>101.000000</td>\n",
       "    </tr>\n",
       "    <tr>\n",
       "      <th>25%</th>\n",
       "      <td>34.009200</td>\n",
       "      <td>-118.429700</td>\n",
       "      <td>930.000000</td>\n",
       "      <td>6.000000</td>\n",
       "      <td>632.000000</td>\n",
       "      <td>1.000000</td>\n",
       "      <td>12.000000</td>\n",
       "      <td>101.000000</td>\n",
       "      <td>312.000000</td>\n",
       "    </tr>\n",
       "    <tr>\n",
       "      <th>50%</th>\n",
       "      <td>34.058700</td>\n",
       "      <td>-118.323000</td>\n",
       "      <td>1430.000000</td>\n",
       "      <td>11.000000</td>\n",
       "      <td>1162.000000</td>\n",
       "      <td>1.000000</td>\n",
       "      <td>31.000000</td>\n",
       "      <td>203.000000</td>\n",
       "      <td>400.000000</td>\n",
       "    </tr>\n",
       "    <tr>\n",
       "      <th>75%</th>\n",
       "      <td>34.165025</td>\n",
       "      <td>-118.274400</td>\n",
       "      <td>1900.000000</td>\n",
       "      <td>16.000000</td>\n",
       "      <td>1622.000000</td>\n",
       "      <td>2.000000</td>\n",
       "      <td>46.000000</td>\n",
       "      <td>501.000000</td>\n",
       "      <td>400.000000</td>\n",
       "    </tr>\n",
       "    <tr>\n",
       "      <th>max</th>\n",
       "      <td>34.328100</td>\n",
       "      <td>0.000000</td>\n",
       "      <td>2359.000000</td>\n",
       "      <td>21.000000</td>\n",
       "      <td>2197.000000</td>\n",
       "      <td>2.000000</td>\n",
       "      <td>99.000000</td>\n",
       "      <td>969.000000</td>\n",
       "      <td>515.000000</td>\n",
       "    </tr>\n",
       "  </tbody>\n",
       "</table>\n",
       "</div>"
      ],
      "text/plain": [
       "           Latitude     Longitude  Time_Occurred       Area_ID  \\\n",
       "count  20000.000000  20000.000000   20000.000000  20000.000000   \n",
       "mean      33.940704   -117.893072    1352.380350     10.834250   \n",
       "std        2.126810      7.377726     646.100291      6.033166   \n",
       "min        0.000000   -118.663400       1.000000      1.000000   \n",
       "25%       34.009200   -118.429700     930.000000      6.000000   \n",
       "50%       34.058700   -118.323000    1430.000000     11.000000   \n",
       "75%       34.165025   -118.274400    1900.000000     16.000000   \n",
       "max       34.328100      0.000000    2359.000000     21.000000   \n",
       "\n",
       "       Reporting_District_no      Part 1-2    Victim_Age  Premise_Code  \\\n",
       "count           20000.000000  20000.000000  20000.000000  20000.000000   \n",
       "mean             1129.599200      1.418150     30.135000    297.176950   \n",
       "std               603.330519      0.493267     21.863645    212.007298   \n",
       "min               101.000000      1.000000     -2.000000    101.000000   \n",
       "25%               632.000000      1.000000     12.000000    101.000000   \n",
       "50%              1162.000000      1.000000     31.000000    203.000000   \n",
       "75%              1622.000000      2.000000     46.000000    501.000000   \n",
       "max              2197.000000      2.000000     99.000000    969.000000   \n",
       "\n",
       "       Weapon_Used_Code  \n",
       "count       7335.000000  \n",
       "mean         366.405044  \n",
       "std          120.485687  \n",
       "min          101.000000  \n",
       "25%          312.000000  \n",
       "50%          400.000000  \n",
       "75%          400.000000  \n",
       "max          515.000000  "
      ]
     },
     "execution_count": 6,
     "metadata": {},
     "output_type": "execute_result"
    }
   ],
   "source": [
    "df.describe()"
   ]
  },
  {
   "cell_type": "code",
   "execution_count": 7,
   "id": "40c4ab68",
   "metadata": {
    "execution": {
     "iopub.execute_input": "2024-08-09T14:04:45.483182Z",
     "iopub.status.busy": "2024-08-09T14:04:45.482785Z",
     "iopub.status.idle": "2024-08-09T14:04:45.488216Z",
     "shell.execute_reply": "2024-08-09T14:04:45.487133Z"
    },
    "papermill": {
     "duration": 0.02835,
     "end_time": "2024-08-09T14:04:45.491116",
     "exception": false,
     "start_time": "2024-08-09T14:04:45.462766",
     "status": "completed"
    },
    "tags": []
   },
   "outputs": [
    {
     "name": "stdout",
     "output_type": "stream",
     "text": [
      "(20000, 22)\n",
      "(5000, 21)\n"
     ]
    }
   ],
   "source": [
    "print(df.shape)\n",
    "print(df_test.shape)"
   ]
  },
  {
   "cell_type": "code",
   "execution_count": 8,
   "id": "3120029f",
   "metadata": {
    "execution": {
     "iopub.execute_input": "2024-08-09T14:04:45.530559Z",
     "iopub.status.busy": "2024-08-09T14:04:45.530123Z",
     "iopub.status.idle": "2024-08-09T14:04:45.539243Z",
     "shell.execute_reply": "2024-08-09T14:04:45.538275Z"
    },
    "papermill": {
     "duration": 0.031807,
     "end_time": "2024-08-09T14:04:45.541729",
     "exception": false,
     "start_time": "2024-08-09T14:04:45.509922",
     "status": "completed"
    },
    "tags": []
   },
   "outputs": [
    {
     "data": {
      "text/plain": [
       "Location                  object\n",
       "Cross_Street              object\n",
       "Latitude                 float64\n",
       "Longitude                float64\n",
       "Date_Reported             object\n",
       "Date_Occurred             object\n",
       "Time_Occurred            float64\n",
       "Area_ID                  float64\n",
       "Area_Name                 object\n",
       "Reporting_District_no    float64\n",
       "Part 1-2                 float64\n",
       "Modus_Operandi            object\n",
       "Victim_Age               float64\n",
       "Victim_Sex                object\n",
       "Victim_Descent            object\n",
       "Premise_Code             float64\n",
       "Premise_Description       object\n",
       "Weapon_Used_Code         float64\n",
       "Weapon_Description        object\n",
       "Status                    object\n",
       "Status_Description        object\n",
       "Crime_Category            object\n",
       "dtype: object"
      ]
     },
     "execution_count": 8,
     "metadata": {},
     "output_type": "execute_result"
    }
   ],
   "source": [
    "df.dtypes"
   ]
  },
  {
   "cell_type": "code",
   "execution_count": 9,
   "id": "06c4bb80",
   "metadata": {
    "execution": {
     "iopub.execute_input": "2024-08-09T14:04:45.581985Z",
     "iopub.status.busy": "2024-08-09T14:04:45.581592Z",
     "iopub.status.idle": "2024-08-09T14:04:45.589145Z",
     "shell.execute_reply": "2024-08-09T14:04:45.588055Z"
    },
    "papermill": {
     "duration": 0.030713,
     "end_time": "2024-08-09T14:04:45.591594",
     "exception": false,
     "start_time": "2024-08-09T14:04:45.560881",
     "status": "completed"
    },
    "tags": []
   },
   "outputs": [
    {
     "data": {
      "text/plain": [
       "Index(['Location', 'Cross_Street', 'Latitude', 'Longitude', 'Date_Reported',\n",
       "       'Date_Occurred', 'Time_Occurred', 'Area_ID', 'Area_Name',\n",
       "       'Reporting_District_no', 'Part 1-2', 'Modus_Operandi', 'Victim_Age',\n",
       "       'Victim_Sex', 'Victim_Descent', 'Premise_Code', 'Premise_Description',\n",
       "       'Weapon_Used_Code', 'Weapon_Description', 'Status',\n",
       "       'Status_Description', 'Crime_Category'],\n",
       "      dtype='object')"
      ]
     },
     "execution_count": 9,
     "metadata": {},
     "output_type": "execute_result"
    }
   ],
   "source": [
    "df.columns"
   ]
  },
  {
   "cell_type": "code",
   "execution_count": 10,
   "id": "19f527da",
   "metadata": {
    "execution": {
     "iopub.execute_input": "2024-08-09T14:04:45.631644Z",
     "iopub.status.busy": "2024-08-09T14:04:45.631233Z",
     "iopub.status.idle": "2024-08-09T14:04:45.666965Z",
     "shell.execute_reply": "2024-08-09T14:04:45.665816Z"
    },
    "papermill": {
     "duration": 0.058904,
     "end_time": "2024-08-09T14:04:45.669811",
     "exception": false,
     "start_time": "2024-08-09T14:04:45.610907",
     "status": "completed"
    },
    "tags": []
   },
   "outputs": [
    {
     "data": {
      "text/plain": [
       "Location                     0\n",
       "Cross_Street             16552\n",
       "Latitude                     0\n",
       "Longitude                    0\n",
       "Date_Reported                0\n",
       "Date_Occurred                0\n",
       "Time_Occurred                0\n",
       "Area_ID                      0\n",
       "Area_Name                    0\n",
       "Reporting_District_no        0\n",
       "Part 1-2                     0\n",
       "Modus_Operandi            2741\n",
       "Victim_Age                   0\n",
       "Victim_Sex                2624\n",
       "Victim_Descent            2624\n",
       "Premise_Code                 0\n",
       "Premise_Description          5\n",
       "Weapon_Used_Code         12665\n",
       "Weapon_Description       12665\n",
       "Status                       0\n",
       "Status_Description           0\n",
       "Crime_Category               0\n",
       "dtype: int64"
      ]
     },
     "execution_count": 10,
     "metadata": {},
     "output_type": "execute_result"
    }
   ],
   "source": [
    "df.isnull().sum()\n",
    "#Dropping the Cross-Street column as it have many null values"
   ]
  },
  {
   "cell_type": "code",
   "execution_count": 11,
   "id": "f9383956",
   "metadata": {
    "execution": {
     "iopub.execute_input": "2024-08-09T14:04:45.711379Z",
     "iopub.status.busy": "2024-08-09T14:04:45.710698Z",
     "iopub.status.idle": "2024-08-09T14:05:12.836457Z",
     "shell.execute_reply": "2024-08-09T14:05:12.835342Z"
    },
    "papermill": {
     "duration": 27.152576,
     "end_time": "2024-08-09T14:05:12.842484",
     "exception": false,
     "start_time": "2024-08-09T14:04:45.689908",
     "status": "completed"
    },
    "tags": []
   },
   "outputs": [
    {
     "name": "stderr",
     "output_type": "stream",
     "text": [
      "/opt/conda/lib/python3.10/site-packages/seaborn/_oldcore.py:1119: FutureWarning: use_inf_as_na option is deprecated and will be removed in a future version. Convert inf values to NaN before operating instead.\n",
      "  with pd.option_context('mode.use_inf_as_na', True):\n",
      "/opt/conda/lib/python3.10/site-packages/seaborn/_oldcore.py:1119: FutureWarning: use_inf_as_na option is deprecated and will be removed in a future version. Convert inf values to NaN before operating instead.\n",
      "  with pd.option_context('mode.use_inf_as_na', True):\n",
      "/opt/conda/lib/python3.10/site-packages/seaborn/_oldcore.py:1119: FutureWarning: use_inf_as_na option is deprecated and will be removed in a future version. Convert inf values to NaN before operating instead.\n",
      "  with pd.option_context('mode.use_inf_as_na', True):\n",
      "/opt/conda/lib/python3.10/site-packages/seaborn/_oldcore.py:1119: FutureWarning: use_inf_as_na option is deprecated and will be removed in a future version. Convert inf values to NaN before operating instead.\n",
      "  with pd.option_context('mode.use_inf_as_na', True):\n",
      "/opt/conda/lib/python3.10/site-packages/seaborn/_oldcore.py:1119: FutureWarning: use_inf_as_na option is deprecated and will be removed in a future version. Convert inf values to NaN before operating instead.\n",
      "  with pd.option_context('mode.use_inf_as_na', True):\n",
      "/opt/conda/lib/python3.10/site-packages/seaborn/_oldcore.py:1119: FutureWarning: use_inf_as_na option is deprecated and will be removed in a future version. Convert inf values to NaN before operating instead.\n",
      "  with pd.option_context('mode.use_inf_as_na', True):\n",
      "/opt/conda/lib/python3.10/site-packages/seaborn/_oldcore.py:1119: FutureWarning: use_inf_as_na option is deprecated and will be removed in a future version. Convert inf values to NaN before operating instead.\n",
      "  with pd.option_context('mode.use_inf_as_na', True):\n",
      "/opt/conda/lib/python3.10/site-packages/seaborn/_oldcore.py:1119: FutureWarning: use_inf_as_na option is deprecated and will be removed in a future version. Convert inf values to NaN before operating instead.\n",
      "  with pd.option_context('mode.use_inf_as_na', True):\n",
      "/opt/conda/lib/python3.10/site-packages/seaborn/_oldcore.py:1119: FutureWarning: use_inf_as_na option is deprecated and will be removed in a future version. Convert inf values to NaN before operating instead.\n",
      "  with pd.option_context('mode.use_inf_as_na', True):\n"
     ]
    },
    {
     "data": {
      "image/png": "[encoded data removed]",
      "text/plain": [
       "<Figure size 1200x5400 with 9 Axes>"
      ]
     },
     "metadata": {},
     "output_type": "display_data"
    }
   ],
   "source": [
    "df.replace([np.inf, -np.inf], np.nan, inplace=True)\n",
    "\n",
    "numerical_cols = df.select_dtypes(include=['float64'])\n",
    "\n",
    "numerical_cols.fillna(numerical_cols.mean(), inplace=True)\n",
    "\n",
    "num_features = numerical_cols.shape[1]\n",
    "\n",
    "fig, axes = plt.subplots(num_features, 1, figsize=(12, num_features * 6))\n",
    "\n",
    "if num_features == 1:\n",
    "    axes = [axes]\n",
    "\n",
    "for i, column in enumerate(numerical_cols.columns):\n",
    "    sns.histplot(data=numerical_cols, x=column, ax=axes[i], kde=True)\n",
    "    axes[i].set_title(f'Histogram of {column}')\n",
    "\n",
    "plt.tight_layout()\n",
    "plt.show()\n",
    "# The graphs are plotted to do the numerical analysis of features\n"
   ]
  },
  {
   "cell_type": "code",
   "execution_count": 12,
   "id": "6f476b1d",
   "metadata": {
    "execution": {
     "iopub.execute_input": "2024-08-09T14:05:12.894259Z",
     "iopub.status.busy": "2024-08-09T14:05:12.893349Z",
     "iopub.status.idle": "2024-08-09T14:05:12.899960Z",
     "shell.execute_reply": "2024-08-09T14:05:12.898966Z"
    },
    "papermill": {
     "duration": 0.034996,
     "end_time": "2024-08-09T14:05:12.902265",
     "exception": false,
     "start_time": "2024-08-09T14:05:12.867269",
     "status": "completed"
    },
    "tags": []
   },
   "outputs": [],
   "source": [
    "def encode_and_correlate(df, col1, col2):\n",
    "    le = LabelEncoder()\n",
    "    df_encoded = df[[col1, col2]].copy()\n",
    "    df_encoded[col1] = le.fit_transform(df[col1])\n",
    "    df_encoded[col2] = le.fit_transform(df[col2])\n",
    "    correlation = df_encoded[col1].corr(df_encoded[col2])\n",
    "    return correlation\n",
    "\n",
    "le=LabelEncoder()"
   ]
  },
  {
   "cell_type": "code",
   "execution_count": 13,
   "id": "85a3a142",
   "metadata": {
    "execution": {
     "iopub.execute_input": "2024-08-09T14:05:12.953649Z",
     "iopub.status.busy": "2024-08-09T14:05:12.953001Z",
     "iopub.status.idle": "2024-08-09T14:05:12.974809Z",
     "shell.execute_reply": "2024-08-09T14:05:12.973629Z"
    },
    "papermill": {
     "duration": 0.050203,
     "end_time": "2024-08-09T14:05:12.977211",
     "exception": false,
     "start_time": "2024-08-09T14:05:12.927008",
     "status": "completed"
    },
    "tags": []
   },
   "outputs": [
    {
     "name": "stdout",
     "output_type": "stream",
     "text": [
      "Correlation between Status and Status_Description: 1.0000\n"
     ]
    }
   ],
   "source": [
    "corr_status = encode_and_correlate(df, 'Status', 'Status_Description')\n",
    "print(f\"Correlation between Status and Status_Description: {corr_status:.4f}\")\n",
    "# Dropping Status Description as one is reductant "
   ]
  },
  {
   "cell_type": "code",
   "execution_count": 14,
   "id": "ca7040cf",
   "metadata": {
    "execution": {
     "iopub.execute_input": "2024-08-09T14:05:13.029836Z",
     "iopub.status.busy": "2024-08-09T14:05:13.029389Z",
     "iopub.status.idle": "2024-08-09T14:05:13.051865Z",
     "shell.execute_reply": "2024-08-09T14:05:13.050682Z"
    },
    "papermill": {
     "duration": 0.051574,
     "end_time": "2024-08-09T14:05:13.054304",
     "exception": false,
     "start_time": "2024-08-09T14:05:13.002730",
     "status": "completed"
    },
    "tags": []
   },
   "outputs": [
    {
     "name": "stdout",
     "output_type": "stream",
     "text": [
      "Correlation between Vicitim_Sex and Victim_Descent: 0.5463\n"
     ]
    }
   ],
   "source": [
    "corr_status = encode_and_correlate(df, 'Victim_Sex', 'Victim_Descent')\n",
    "print(f\"Correlation between Vicitim_Sex and Victim_Descent: {corr_status:.4f}\")"
   ]
  },
  {
   "cell_type": "code",
   "execution_count": 15,
   "id": "1421be81",
   "metadata": {
    "execution": {
     "iopub.execute_input": "2024-08-09T14:05:13.106814Z",
     "iopub.status.busy": "2024-08-09T14:05:13.105885Z",
     "iopub.status.idle": "2024-08-09T14:05:13.824223Z",
     "shell.execute_reply": "2024-08-09T14:05:13.822964Z"
    },
    "papermill": {
     "duration": 0.747665,
     "end_time": "2024-08-09T14:05:13.826839",
     "exception": false,
     "start_time": "2024-08-09T14:05:13.079174",
     "status": "completed"
    },
    "tags": []
   },
   "outputs": [
    {
     "data": {
      "image/png": "[encoded data removed]",
      "text/plain": [
       "<Figure size 1500x600 with 2 Axes>"
      ]
     },
     "metadata": {},
     "output_type": "display_data"
    }
   ],
   "source": [
    "#Graph comparison between Victim_sex and Victim_descent\n",
    "fig, (ax1, ax2) = plt.subplots(1, 2, figsize=(15, 6))\n",
    "\n",
    "df['Victim_Sex'].value_counts().plot(kind='bar', ax=ax1, title='Victim Sex Distribution')\n",
    "df['Victim_Descent'].value_counts().plot(kind='bar', ax=ax2, title='Victim Descent Distribution')\n",
    "\n",
    "plt.tight_layout()\n",
    "plt.show()"
   ]
  },
  {
   "cell_type": "code",
   "execution_count": 16,
   "id": "ee6498bf",
   "metadata": {
    "execution": {
     "iopub.execute_input": "2024-08-09T14:05:13.880883Z",
     "iopub.status.busy": "2024-08-09T14:05:13.879964Z",
     "iopub.status.idle": "2024-08-09T14:05:13.896928Z",
     "shell.execute_reply": "2024-08-09T14:05:13.895783Z"
    },
    "papermill": {
     "duration": 0.046589,
     "end_time": "2024-08-09T14:05:13.899339",
     "exception": false,
     "start_time": "2024-08-09T14:05:13.852750",
     "status": "completed"
    },
    "tags": []
   },
   "outputs": [
    {
     "name": "stdout",
     "output_type": "stream",
     "text": [
      "Correlation between Weapon_Used_Code and Weapon_Description: 0.6658\n"
     ]
    }
   ],
   "source": [
    "\n",
    "df_copy = df[['Weapon_Description', 'Weapon_Used_Code']].copy()\n",
    "\n",
    "df_copy['Weapon_Description_Encoded'] = le.fit_transform(df_copy['Weapon_Description'])\n",
    "\n",
    "\n",
    "corr_status = df_copy['Weapon_Description_Encoded'].corr(df_copy['Weapon_Used_Code'])\n",
    "\n",
    "print(f\"Correlation between Weapon_Used_Code and Weapon_Description: {corr_status:.4f}\")"
   ]
  },
  {
   "cell_type": "code",
   "execution_count": 17,
   "id": "6a5084f3",
   "metadata": {
    "execution": {
     "iopub.execute_input": "2024-08-09T14:05:13.953052Z",
     "iopub.status.busy": "2024-08-09T14:05:13.952250Z",
     "iopub.status.idle": "2024-08-09T14:05:14.550313Z",
     "shell.execute_reply": "2024-08-09T14:05:14.549125Z"
    },
    "papermill": {
     "duration": 0.628284,
     "end_time": "2024-08-09T14:05:14.553339",
     "exception": false,
     "start_time": "2024-08-09T14:05:13.925055",
     "status": "completed"
    },
    "tags": []
   },
   "outputs": [
    {
     "data": {
      "image/png": "[encoded data removed]",
      "text/plain": [
       "<Figure size 1500x600 with 2 Axes>"
      ]
     },
     "metadata": {},
     "output_type": "display_data"
    }
   ],
   "source": [
    "#Graph between Weapon Description and Weapon Used Code\n",
    "top_n = 10\n",
    "top_weapon_used = df['Weapon_Used_Code'].value_counts().head(top_n)\n",
    "top_weapon_desc = df['Weapon_Description'].value_counts().head(top_n)\n",
    "\n",
    "fig, (ax1, ax2) = plt.subplots(1, 2, figsize=(15, 6))\n",
    "\n",
    "top_weapon_used.plot(kind='barh', ax=ax1, color='skyblue', title='Weapon_Used_Code')\n",
    "ax1.set_xlabel('Count')\n",
    "\n",
    "top_weapon_desc.plot(kind='barh', ax=ax2, color='salmon', title='Weapon_Description')\n",
    "ax2.set_xlabel('Count')\n",
    "\n",
    "plt.tight_layout()\n",
    "plt.show()\n",
    "# Dropping Weapon Description as it is very similar to Weapon Used Code "
   ]
  },
  {
   "cell_type": "code",
   "execution_count": 18,
   "id": "4359711b",
   "metadata": {
    "execution": {
     "iopub.execute_input": "2024-08-09T14:05:14.608598Z",
     "iopub.status.busy": "2024-08-09T14:05:14.608188Z",
     "iopub.status.idle": "2024-08-09T14:05:15.161721Z",
     "shell.execute_reply": "2024-08-09T14:05:15.160593Z"
    },
    "papermill": {
     "duration": 0.583801,
     "end_time": "2024-08-09T14:05:15.164182",
     "exception": false,
     "start_time": "2024-08-09T14:05:14.580381",
     "status": "completed"
    },
    "tags": []
   },
   "outputs": [
    {
     "data": {
      "image/png": "[encoded data removed]",
      "text/plain": [
       "<Figure size 1500x600 with 2 Axes>"
      ]
     },
     "metadata": {},
     "output_type": "display_data"
    }
   ],
   "source": [
    "top_n = 10\n",
    "top_weapon_used = df['Premise_Code'].value_counts().head(top_n)\n",
    "top_weapon_desc = df['Premise_Description'].value_counts().head(top_n)\n",
    "\n",
    "fig, (ax1, ax2) = plt.subplots(1, 2, figsize=(15, 6))\n",
    "\n",
    "top_weapon_used.plot(kind='barh', ax=ax1, color='skyblue', title='Premise_Code')\n",
    "ax1.set_xlabel('Count')\n",
    "\n",
    "top_weapon_desc.plot(kind='barh', ax=ax2, color='salmon', title='Premise_Description')\n",
    "ax2.set_xlabel('Count')\n",
    "\n",
    "plt.tight_layout()\n",
    "plt.show()\n",
    "#Dropping Premise Description"
   ]
  },
  {
   "cell_type": "code",
   "execution_count": 19,
   "id": "2d628252",
   "metadata": {
    "execution": {
     "iopub.execute_input": "2024-08-09T14:05:15.220687Z",
     "iopub.status.busy": "2024-08-09T14:05:15.220248Z",
     "iopub.status.idle": "2024-08-09T14:05:15.970970Z",
     "shell.execute_reply": "2024-08-09T14:05:15.969818Z"
    },
    "papermill": {
     "duration": 0.782053,
     "end_time": "2024-08-09T14:05:15.973539",
     "exception": false,
     "start_time": "2024-08-09T14:05:15.191486",
     "status": "completed"
    },
    "tags": []
   },
   "outputs": [
    {
     "data": {
      "image/png": "[encoded data removed]",
      "text/plain": [
       "<Figure size 1500x600 with 2 Axes>"
      ]
     },
     "metadata": {},
     "output_type": "display_data"
    }
   ],
   "source": [
    "fig, (ax1, ax2) = plt.subplots(1, 2, figsize=(15, 6))\n",
    "\n",
    "df['Area_Name'].value_counts().plot(kind='bar', ax=ax1, title='Area_Name')\n",
    "df['Area_ID'].value_counts().plot(kind='bar', ax=ax2, title='Area_ID')\n",
    "\n",
    "plt.tight_layout()\n",
    "plt.show()\n",
    "#Dropping Area Name"
   ]
  },
  {
   "cell_type": "code",
   "execution_count": 20,
   "id": "0eb565ba",
   "metadata": {
    "execution": {
     "iopub.execute_input": "2024-08-09T14:05:16.090387Z",
     "iopub.status.busy": "2024-08-09T14:05:16.089437Z",
     "iopub.status.idle": "2024-08-09T14:05:16.098517Z",
     "shell.execute_reply": "2024-08-09T14:05:16.097456Z"
    },
    "papermill": {
     "duration": 0.041702,
     "end_time": "2024-08-09T14:05:16.101285",
     "exception": false,
     "start_time": "2024-08-09T14:05:16.059583",
     "status": "completed"
    },
    "tags": []
   },
   "outputs": [
    {
     "name": "stdout",
     "output_type": "stream",
     "text": [
      "Correlation between Area_ID and Reporting_District_no: 0.9990\n"
     ]
    }
   ],
   "source": [
    "df_copy = df[['Area_ID', 'Reporting_District_no']].copy()\n",
    "\n",
    "\n",
    "corr_status = df_copy['Area_ID'].corr(df_copy['Reporting_District_no'])\n",
    "\n",
    "print(f\"Correlation between Area_ID and Reporting_District_no: {corr_status:.4f}\")\n",
    "#Dropping Area ID"
   ]
  },
  {
   "cell_type": "code",
   "execution_count": 21,
   "id": "d25de85b",
   "metadata": {
    "execution": {
     "iopub.execute_input": "2024-08-09T14:05:16.161497Z",
     "iopub.status.busy": "2024-08-09T14:05:16.160818Z",
     "iopub.status.idle": "2024-08-09T14:05:16.176673Z",
     "shell.execute_reply": "2024-08-09T14:05:16.175470Z"
    },
    "papermill": {
     "duration": 0.048812,
     "end_time": "2024-08-09T14:05:16.178997",
     "exception": false,
     "start_time": "2024-08-09T14:05:16.130185",
     "status": "completed"
    },
    "tags": []
   },
   "outputs": [
    {
     "name": "stdout",
     "output_type": "stream",
     "text": [
      "Victim_Age\n",
      " 0.0     4828\n",
      " 30.0     448\n",
      " 31.0     446\n",
      " 26.0     442\n",
      " 29.0     425\n",
      "         ... \n",
      " 98.0       2\n",
      "-2.0        2\n",
      " 92.0       2\n",
      " 96.0       2\n",
      " 94.0       2\n",
      "Name: count, Length: 100, dtype: int64\n"
     ]
    }
   ],
   "source": [
    "print(df['Victim_Age'].value_counts())\n",
    "df = df[df['Victim_Age'] >0]\n",
    "df_test=df_test[df_test['Victim_Age']>0]\n",
    "#Removing Outliers"
   ]
  },
  {
   "cell_type": "code",
   "execution_count": 22,
   "id": "527db7aa",
   "metadata": {
    "execution": {
     "iopub.execute_input": "2024-08-09T14:05:16.238961Z",
     "iopub.status.busy": "2024-08-09T14:05:16.238578Z",
     "iopub.status.idle": "2024-08-09T14:05:16.248024Z",
     "shell.execute_reply": "2024-08-09T14:05:16.246949Z"
    },
    "papermill": {
     "duration": 0.042615,
     "end_time": "2024-08-09T14:05:16.250328",
     "exception": false,
     "start_time": "2024-08-09T14:05:16.207713",
     "status": "completed"
    },
    "tags": []
   },
   "outputs": [],
   "source": [
    "def process_date_time(df):\n",
    "    df['Date_Reported'] = pd.to_datetime(df['Date_Reported'], format='%m/%d/%Y %I:%M:%S %p', errors='coerce')\n",
    "    df['Date_Occurred'] = pd.to_datetime(df['Date_Occurred'], format='%m/%d/%Y %I:%M:%S %p', errors='coerce')\n",
    "    df['Year_Reported'] = df['Date_Reported'].dt.year\n",
    "    df['Month_Reported'] = df['Date_Reported'].dt.month\n",
    "    df['Day_Reported'] = df['Date_Reported'].dt.day\n",
    "\n",
    "    \n",
    "    def parse_time(time_value):\n",
    "        try:\n",
    "            if np.isnan(time_value):\n",
    "                return np.nan\n",
    "            time_str = str(int(time_value)).zfill(4)\n",
    "            return pd.to_datetime(time_str, format='%H%M').hour\n",
    "        except Exception:\n",
    "            return np.nan\n",
    "\n",
    "    df['Hour_Occurred'] = df['Time_Occurred'].apply(parse_time)\n",
    "    \n",
    "    # Drop original columns\n",
    "    return df.drop(columns=['Date_Reported', 'Date_Occurred', 'Time_Occurred'])"
   ]
  },
  {
   "cell_type": "code",
   "execution_count": 23,
   "id": "006fcfea",
   "metadata": {
    "execution": {
     "iopub.execute_input": "2024-08-09T14:05:16.310866Z",
     "iopub.status.busy": "2024-08-09T14:05:16.310447Z",
     "iopub.status.idle": "2024-08-09T14:05:16.320262Z",
     "shell.execute_reply": "2024-08-09T14:05:16.319149Z"
    },
    "papermill": {
     "duration": 0.043125,
     "end_time": "2024-08-09T14:05:16.322719",
     "exception": false,
     "start_time": "2024-08-09T14:05:16.279594",
     "status": "completed"
    },
    "tags": []
   },
   "outputs": [
    {
     "data": {
      "text/plain": [
       "9362"
      ]
     },
     "execution_count": 23,
     "metadata": {},
     "output_type": "execute_result"
    }
   ],
   "source": [
    "len(df['Modus_Operandi'].unique())"
   ]
  },
  {
   "cell_type": "code",
   "execution_count": 24,
   "id": "a8983a4d",
   "metadata": {
    "execution": {
     "iopub.execute_input": "2024-08-09T14:05:16.387642Z",
     "iopub.status.busy": "2024-08-09T14:05:16.386697Z",
     "iopub.status.idle": "2024-08-09T14:05:16.438748Z",
     "shell.execute_reply": "2024-08-09T14:05:16.436976Z"
    },
    "papermill": {
     "duration": 0.086011,
     "end_time": "2024-08-09T14:05:16.442207",
     "exception": false,
     "start_time": "2024-08-09T14:05:16.356196",
     "status": "completed"
    },
    "tags": []
   },
   "outputs": [],
   "source": [
    "modus_operandi_split = df['Modus_Operandi'].str.split(' ', expand=True)\n",
    "\n",
    "modus_operandi_split.columns = [f'Modus_Operandi_{i+1}' for i in modus_operandi_split.columns]\n",
    "\n",
    "df = df.join(modus_operandi_split)\n",
    "df_test=df_test.join(modus_operandi_split)"
   ]
  },
  {
   "cell_type": "code",
   "execution_count": 25,
   "id": "80c0f0e7",
   "metadata": {
    "execution": {
     "iopub.execute_input": "2024-08-09T14:05:16.524819Z",
     "iopub.status.busy": "2024-08-09T14:05:16.523953Z",
     "iopub.status.idle": "2024-08-09T14:05:19.473068Z",
     "shell.execute_reply": "2024-08-09T14:05:19.471823Z"
    },
    "papermill": {
     "duration": 2.993869,
     "end_time": "2024-08-09T14:05:19.476503",
     "exception": false,
     "start_time": "2024-08-09T14:05:16.482634",
     "status": "completed"
    },
    "tags": []
   },
   "outputs": [
    {
     "name": "stdout",
     "output_type": "stream",
     "text": [
      "(15166, 24)\n"
     ]
    },
    {
     "data": {
      "text/html": [
       "<div>\n",
       "<style scoped>\n",
       "    .dataframe tbody tr th:only-of-type {\n",
       "        vertical-align: middle;\n",
       "    }\n",
       "\n",
       "    .dataframe tbody tr th {\n",
       "        vertical-align: top;\n",
       "    }\n",
       "\n",
       "    .dataframe thead th {\n",
       "        text-align: right;\n",
       "    }\n",
       "</style>\n",
       "<table border=\"1\" class=\"dataframe\">\n",
       "  <thead>\n",
       "    <tr style=\"text-align: right;\">\n",
       "      <th></th>\n",
       "      <th>Latitude</th>\n",
       "      <th>Longitude</th>\n",
       "      <th>Reporting_District_no</th>\n",
       "      <th>Part 1-2</th>\n",
       "      <th>Victim_Age</th>\n",
       "      <th>Victim_Sex</th>\n",
       "      <th>Victim_Descent</th>\n",
       "      <th>Premise_Code</th>\n",
       "      <th>Weapon_Used_Code</th>\n",
       "      <th>Status</th>\n",
       "      <th>...</th>\n",
       "      <th>Modus_Operandi_5</th>\n",
       "      <th>Modus_Operandi_6</th>\n",
       "      <th>Modus_Operandi_7</th>\n",
       "      <th>Modus_Operandi_8</th>\n",
       "      <th>Modus_Operandi_9</th>\n",
       "      <th>Modus_Operandi_10</th>\n",
       "      <th>Year_Reported</th>\n",
       "      <th>Month_Reported</th>\n",
       "      <th>Day_Reported</th>\n",
       "      <th>Hour_Occurred</th>\n",
       "    </tr>\n",
       "  </thead>\n",
       "  <tbody>\n",
       "    <tr>\n",
       "      <th>0</th>\n",
       "      <td>34.1522</td>\n",
       "      <td>-118.3910</td>\n",
       "      <td>1563.0</td>\n",
       "      <td>1.0</td>\n",
       "      <td>75.0</td>\n",
       "      <td>M</td>\n",
       "      <td>W</td>\n",
       "      <td>101.0</td>\n",
       "      <td>NaN</td>\n",
       "      <td>IC</td>\n",
       "      <td>...</td>\n",
       "      <td>None</td>\n",
       "      <td>None</td>\n",
       "      <td>None</td>\n",
       "      <td>None</td>\n",
       "      <td>None</td>\n",
       "      <td>None</td>\n",
       "      <td>2020</td>\n",
       "      <td>3</td>\n",
       "      <td>9</td>\n",
       "      <td>18</td>\n",
       "    </tr>\n",
       "    <tr>\n",
       "      <th>1</th>\n",
       "      <td>34.0028</td>\n",
       "      <td>-118.2391</td>\n",
       "      <td>1367.0</td>\n",
       "      <td>1.0</td>\n",
       "      <td>41.0</td>\n",
       "      <td>M</td>\n",
       "      <td>H</td>\n",
       "      <td>216.0</td>\n",
       "      <td>400.0</td>\n",
       "      <td>IC</td>\n",
       "      <td>...</td>\n",
       "      <td>1822</td>\n",
       "      <td>0344</td>\n",
       "      <td>0416</td>\n",
       "      <td>0417</td>\n",
       "      <td>None</td>\n",
       "      <td>None</td>\n",
       "      <td>2020</td>\n",
       "      <td>2</td>\n",
       "      <td>27</td>\n",
       "      <td>13</td>\n",
       "    </tr>\n",
       "    <tr>\n",
       "      <th>2</th>\n",
       "      <td>34.0111</td>\n",
       "      <td>-118.2653</td>\n",
       "      <td>1343.0</td>\n",
       "      <td>2.0</td>\n",
       "      <td>67.0</td>\n",
       "      <td>M</td>\n",
       "      <td>B</td>\n",
       "      <td>501.0</td>\n",
       "      <td>NaN</td>\n",
       "      <td>IC</td>\n",
       "      <td>...</td>\n",
       "      <td>None</td>\n",
       "      <td>None</td>\n",
       "      <td>None</td>\n",
       "      <td>None</td>\n",
       "      <td>None</td>\n",
       "      <td>None</td>\n",
       "      <td>2020</td>\n",
       "      <td>8</td>\n",
       "      <td>21</td>\n",
       "      <td>6</td>\n",
       "    </tr>\n",
       "    <tr>\n",
       "      <th>3</th>\n",
       "      <td>34.2953</td>\n",
       "      <td>-118.4590</td>\n",
       "      <td>1924.0</td>\n",
       "      <td>1.0</td>\n",
       "      <td>61.0</td>\n",
       "      <td>M</td>\n",
       "      <td>H</td>\n",
       "      <td>101.0</td>\n",
       "      <td>NaN</td>\n",
       "      <td>IC</td>\n",
       "      <td>...</td>\n",
       "      <td>None</td>\n",
       "      <td>None</td>\n",
       "      <td>None</td>\n",
       "      <td>None</td>\n",
       "      <td>None</td>\n",
       "      <td>None</td>\n",
       "      <td>2020</td>\n",
       "      <td>11</td>\n",
       "      <td>8</td>\n",
       "      <td>18</td>\n",
       "    </tr>\n",
       "    <tr>\n",
       "      <th>5</th>\n",
       "      <td>34.1127</td>\n",
       "      <td>-118.1942</td>\n",
       "      <td>1118.0</td>\n",
       "      <td>2.0</td>\n",
       "      <td>50.0</td>\n",
       "      <td>M</td>\n",
       "      <td>H</td>\n",
       "      <td>502.0</td>\n",
       "      <td>400.0</td>\n",
       "      <td>AO</td>\n",
       "      <td>...</td>\n",
       "      <td>None</td>\n",
       "      <td>None</td>\n",
       "      <td>None</td>\n",
       "      <td>None</td>\n",
       "      <td>None</td>\n",
       "      <td>None</td>\n",
       "      <td>2020</td>\n",
       "      <td>1</td>\n",
       "      <td>10</td>\n",
       "      <td>2</td>\n",
       "    </tr>\n",
       "    <tr>\n",
       "      <th>...</th>\n",
       "      <td>...</td>\n",
       "      <td>...</td>\n",
       "      <td>...</td>\n",
       "      <td>...</td>\n",
       "      <td>...</td>\n",
       "      <td>...</td>\n",
       "      <td>...</td>\n",
       "      <td>...</td>\n",
       "      <td>...</td>\n",
       "      <td>...</td>\n",
       "      <td>...</td>\n",
       "      <td>...</td>\n",
       "      <td>...</td>\n",
       "      <td>...</td>\n",
       "      <td>...</td>\n",
       "      <td>...</td>\n",
       "      <td>...</td>\n",
       "      <td>...</td>\n",
       "      <td>...</td>\n",
       "      <td>...</td>\n",
       "      <td>...</td>\n",
       "    </tr>\n",
       "    <tr>\n",
       "      <th>19992</th>\n",
       "      <td>34.2157</td>\n",
       "      <td>-118.4772</td>\n",
       "      <td>1018.0</td>\n",
       "      <td>1.0</td>\n",
       "      <td>59.0</td>\n",
       "      <td>F</td>\n",
       "      <td>H</td>\n",
       "      <td>108.0</td>\n",
       "      <td>NaN</td>\n",
       "      <td>IC</td>\n",
       "      <td>...</td>\n",
       "      <td>1420</td>\n",
       "      <td>0377</td>\n",
       "      <td>None</td>\n",
       "      <td>None</td>\n",
       "      <td>None</td>\n",
       "      <td>None</td>\n",
       "      <td>2020</td>\n",
       "      <td>4</td>\n",
       "      <td>9</td>\n",
       "      <td>15</td>\n",
       "    </tr>\n",
       "    <tr>\n",
       "      <th>19994</th>\n",
       "      <td>33.9401</td>\n",
       "      <td>-118.2744</td>\n",
       "      <td>1832.0</td>\n",
       "      <td>2.0</td>\n",
       "      <td>60.0</td>\n",
       "      <td>M</td>\n",
       "      <td>H</td>\n",
       "      <td>605.0</td>\n",
       "      <td>NaN</td>\n",
       "      <td>IC</td>\n",
       "      <td>...</td>\n",
       "      <td>None</td>\n",
       "      <td>None</td>\n",
       "      <td>None</td>\n",
       "      <td>None</td>\n",
       "      <td>None</td>\n",
       "      <td>None</td>\n",
       "      <td>2020</td>\n",
       "      <td>12</td>\n",
       "      <td>4</td>\n",
       "      <td>11</td>\n",
       "    </tr>\n",
       "    <tr>\n",
       "      <th>19995</th>\n",
       "      <td>34.0334</td>\n",
       "      <td>-118.3523</td>\n",
       "      <td>303.0</td>\n",
       "      <td>2.0</td>\n",
       "      <td>51.0</td>\n",
       "      <td>M</td>\n",
       "      <td>H</td>\n",
       "      <td>501.0</td>\n",
       "      <td>400.0</td>\n",
       "      <td>IC</td>\n",
       "      <td>...</td>\n",
       "      <td>None</td>\n",
       "      <td>None</td>\n",
       "      <td>None</td>\n",
       "      <td>None</td>\n",
       "      <td>None</td>\n",
       "      <td>None</td>\n",
       "      <td>2020</td>\n",
       "      <td>5</td>\n",
       "      <td>24</td>\n",
       "      <td>7</td>\n",
       "    </tr>\n",
       "    <tr>\n",
       "      <th>19997</th>\n",
       "      <td>34.0571</td>\n",
       "      <td>-118.3815</td>\n",
       "      <td>849.0</td>\n",
       "      <td>1.0</td>\n",
       "      <td>42.0</td>\n",
       "      <td>M</td>\n",
       "      <td>H</td>\n",
       "      <td>102.0</td>\n",
       "      <td>NaN</td>\n",
       "      <td>IC</td>\n",
       "      <td>...</td>\n",
       "      <td>None</td>\n",
       "      <td>None</td>\n",
       "      <td>None</td>\n",
       "      <td>None</td>\n",
       "      <td>None</td>\n",
       "      <td>None</td>\n",
       "      <td>2020</td>\n",
       "      <td>9</td>\n",
       "      <td>25</td>\n",
       "      <td>14</td>\n",
       "    </tr>\n",
       "    <tr>\n",
       "      <th>19998</th>\n",
       "      <td>33.7451</td>\n",
       "      <td>-118.2835</td>\n",
       "      <td>558.0</td>\n",
       "      <td>2.0</td>\n",
       "      <td>76.0</td>\n",
       "      <td>F</td>\n",
       "      <td>H</td>\n",
       "      <td>501.0</td>\n",
       "      <td>NaN</td>\n",
       "      <td>IC</td>\n",
       "      <td>...</td>\n",
       "      <td>1242</td>\n",
       "      <td>0553</td>\n",
       "      <td>None</td>\n",
       "      <td>None</td>\n",
       "      <td>None</td>\n",
       "      <td>None</td>\n",
       "      <td>2020</td>\n",
       "      <td>6</td>\n",
       "      <td>10</td>\n",
       "      <td>6</td>\n",
       "    </tr>\n",
       "  </tbody>\n",
       "</table>\n",
       "<p>15166 rows × 24 columns</p>\n",
       "</div>"
      ],
      "text/plain": [
       "       Latitude  Longitude  Reporting_District_no  Part 1-2  Victim_Age  \\\n",
       "0       34.1522  -118.3910                 1563.0       1.0        75.0   \n",
       "1       34.0028  -118.2391                 1367.0       1.0        41.0   \n",
       "2       34.0111  -118.2653                 1343.0       2.0        67.0   \n",
       "3       34.2953  -118.4590                 1924.0       1.0        61.0   \n",
       "5       34.1127  -118.1942                 1118.0       2.0        50.0   \n",
       "...         ...        ...                    ...       ...         ...   \n",
       "19992   34.2157  -118.4772                 1018.0       1.0        59.0   \n",
       "19994   33.9401  -118.2744                 1832.0       2.0        60.0   \n",
       "19995   34.0334  -118.3523                  303.0       2.0        51.0   \n",
       "19997   34.0571  -118.3815                  849.0       1.0        42.0   \n",
       "19998   33.7451  -118.2835                  558.0       2.0        76.0   \n",
       "\n",
       "      Victim_Sex Victim_Descent  Premise_Code  Weapon_Used_Code Status  ...  \\\n",
       "0              M              W         101.0               NaN     IC  ...   \n",
       "1              M              H         216.0             400.0     IC  ...   \n",
       "2              M              B         501.0               NaN     IC  ...   \n",
       "3              M              H         101.0               NaN     IC  ...   \n",
       "5              M              H         502.0             400.0     AO  ...   \n",
       "...          ...            ...           ...               ...    ...  ...   \n",
       "19992          F              H         108.0               NaN     IC  ...   \n",
       "19994          M              H         605.0               NaN     IC  ...   \n",
       "19995          M              H         501.0             400.0     IC  ...   \n",
       "19997          M              H         102.0               NaN     IC  ...   \n",
       "19998          F              H         501.0               NaN     IC  ...   \n",
       "\n",
       "      Modus_Operandi_5 Modus_Operandi_6 Modus_Operandi_7 Modus_Operandi_8  \\\n",
       "0                 None             None             None             None   \n",
       "1                 1822             0344             0416             0417   \n",
       "2                 None             None             None             None   \n",
       "3                 None             None             None             None   \n",
       "5                 None             None             None             None   \n",
       "...                ...              ...              ...              ...   \n",
       "19992             1420             0377             None             None   \n",
       "19994             None             None             None             None   \n",
       "19995             None             None             None             None   \n",
       "19997             None             None             None             None   \n",
       "19998             1242             0553             None             None   \n",
       "\n",
       "      Modus_Operandi_9 Modus_Operandi_10 Year_Reported Month_Reported  \\\n",
       "0                 None              None          2020              3   \n",
       "1                 None              None          2020              2   \n",
       "2                 None              None          2020              8   \n",
       "3                 None              None          2020             11   \n",
       "5                 None              None          2020              1   \n",
       "...                ...               ...           ...            ...   \n",
       "19992             None              None          2020              4   \n",
       "19994             None              None          2020             12   \n",
       "19995             None              None          2020              5   \n",
       "19997             None              None          2020              9   \n",
       "19998             None              None          2020              6   \n",
       "\n",
       "      Day_Reported Hour_Occurred  \n",
       "0                9            18  \n",
       "1               27            13  \n",
       "2               21             6  \n",
       "3                8            18  \n",
       "5               10             2  \n",
       "...            ...           ...  \n",
       "19992            9            15  \n",
       "19994            4            11  \n",
       "19995           24             7  \n",
       "19997           25            14  \n",
       "19998           10             6  \n",
       "\n",
       "[15166 rows x 24 columns]"
      ]
     },
     "execution_count": 25,
     "metadata": {},
     "output_type": "execute_result"
    }
   ],
   "source": [
    "#Dropping Location as Latitude and Longitude is enough\n",
    "X = df.drop(columns=['Crime_Category','Cross_Street','Area_Name','Premise_Description','Weapon_Description','Status_Description','Location','Area_ID','Modus_Operandi'])\n",
    "X=process_date_time(X)\n",
    "df_test=df_test.drop(columns=['Cross_Street','Area_Name','Premise_Description','Weapon_Description','Status_Description','Location','Area_ID','Modus_Operandi'])\n",
    "df_test=process_date_time(df_test)\n",
    "y = df['Crime_Category']\n",
    "print(X.shape)\n",
    "X"
   ]
  },
  {
   "cell_type": "code",
   "execution_count": 26,
   "id": "d398269e",
   "metadata": {
    "execution": {
     "iopub.execute_input": "2024-08-09T14:05:19.540214Z",
     "iopub.status.busy": "2024-08-09T14:05:19.539817Z",
     "iopub.status.idle": "2024-08-09T14:05:19.558710Z",
     "shell.execute_reply": "2024-08-09T14:05:19.557444Z"
    },
    "papermill": {
     "duration": 0.053327,
     "end_time": "2024-08-09T14:05:19.561305",
     "exception": false,
     "start_time": "2024-08-09T14:05:19.507978",
     "status": "completed"
    },
    "tags": []
   },
   "outputs": [
    {
     "name": "stdout",
     "output_type": "stream",
     "text": [
      "Index(['Latitude', 'Longitude', 'Reporting_District_no', 'Part 1-2',\n",
      "       'Victim_Age', 'Premise_Code', 'Weapon_Used_Code', 'Year_Reported',\n",
      "       'Month_Reported', 'Day_Reported', 'Hour_Occurred'],\n",
      "      dtype='object')\n",
      "Index(['Victim_Sex', 'Victim_Descent', 'Status', 'Modus_Operandi_1',\n",
      "       'Modus_Operandi_2', 'Modus_Operandi_3', 'Modus_Operandi_4',\n",
      "       'Modus_Operandi_5', 'Modus_Operandi_6', 'Modus_Operandi_7',\n",
      "       'Modus_Operandi_8', 'Modus_Operandi_9', 'Modus_Operandi_10'],\n",
      "      dtype='object')\n"
     ]
    }
   ],
   "source": [
    "new_nf=X.select_dtypes(exclude='object').columns\n",
    "new_cf=X.select_dtypes(include='object').columns\n",
    "print(new_nf)\n",
    "print(new_cf)"
   ]
  },
  {
   "cell_type": "code",
   "execution_count": 27,
   "id": "ba999470",
   "metadata": {
    "execution": {
     "iopub.execute_input": "2024-08-09T14:05:19.624577Z",
     "iopub.status.busy": "2024-08-09T14:05:19.623883Z",
     "iopub.status.idle": "2024-08-09T14:05:19.628698Z",
     "shell.execute_reply": "2024-08-09T14:05:19.627713Z"
    },
    "papermill": {
     "duration": 0.039355,
     "end_time": "2024-08-09T14:05:19.631003",
     "exception": false,
     "start_time": "2024-08-09T14:05:19.591648",
     "status": "completed"
    },
    "tags": []
   },
   "outputs": [],
   "source": [
    "feature_names=X.columns"
   ]
  },
  {
   "cell_type": "code",
   "execution_count": 28,
   "id": "d9aa92f1",
   "metadata": {
    "execution": {
     "iopub.execute_input": "2024-08-09T14:05:19.692383Z",
     "iopub.status.busy": "2024-08-09T14:05:19.692003Z",
     "iopub.status.idle": "2024-08-09T14:05:19.700366Z",
     "shell.execute_reply": "2024-08-09T14:05:19.699236Z"
    },
    "papermill": {
     "duration": 0.041665,
     "end_time": "2024-08-09T14:05:19.702587",
     "exception": false,
     "start_time": "2024-08-09T14:05:19.660922",
     "status": "completed"
    },
    "tags": []
   },
   "outputs": [
    {
     "data": {
      "text/plain": [
       "array(['Property Crimes', 'Violent Crimes', 'Other Crimes',\n",
       "       'Crimes against Public Order', 'Fraud and White-Collar Crimes',\n",
       "       'Crimes against Persons'], dtype=object)"
      ]
     },
     "execution_count": 28,
     "metadata": {},
     "output_type": "execute_result"
    }
   ],
   "source": [
    "y.unique()"
   ]
  },
  {
   "cell_type": "markdown",
   "id": "f6145ce3",
   "metadata": {
    "papermill": {
     "duration": 0.029786,
     "end_time": "2024-08-09T14:05:19.762394",
     "exception": false,
     "start_time": "2024-08-09T14:05:19.732608",
     "status": "completed"
    },
    "tags": []
   },
   "source": [
    "# Preprocessing"
   ]
  },
  {
   "cell_type": "code",
   "execution_count": 29,
   "id": "753b3f5c",
   "metadata": {
    "execution": {
     "iopub.execute_input": "2024-08-09T14:05:19.824887Z",
     "iopub.status.busy": "2024-08-09T14:05:19.824475Z",
     "iopub.status.idle": "2024-08-09T14:05:19.830290Z",
     "shell.execute_reply": "2024-08-09T14:05:19.829135Z"
    },
    "papermill": {
     "duration": 0.039762,
     "end_time": "2024-08-09T14:05:19.832687",
     "exception": false,
     "start_time": "2024-08-09T14:05:19.792925",
     "status": "completed"
    },
    "tags": []
   },
   "outputs": [],
   "source": [
    "num_imputer=SimpleImputer(strategy='mean')\n",
    "cat_imputer=SimpleImputer(strategy='most_frequent')\n",
    "scaler=StandardScaler()\n",
    "encoder = OneHotEncoder(handle_unknown='ignore')"
   ]
  },
  {
   "cell_type": "code",
   "execution_count": 30,
   "id": "e4233d59",
   "metadata": {
    "execution": {
     "iopub.execute_input": "2024-08-09T14:05:19.895096Z",
     "iopub.status.busy": "2024-08-09T14:05:19.894372Z",
     "iopub.status.idle": "2024-08-09T14:05:19.900749Z",
     "shell.execute_reply": "2024-08-09T14:05:19.899482Z"
    },
    "papermill": {
     "duration": 0.040315,
     "end_time": "2024-08-09T14:05:19.903159",
     "exception": false,
     "start_time": "2024-08-09T14:05:19.862844",
     "status": "completed"
    },
    "tags": []
   },
   "outputs": [],
   "source": [
    "num_trans=Pipeline(steps=[('imputer',num_imputer),('scaler',scaler)])\n",
    "cat_trans=Pipeline(steps=[('imputer',cat_imputer),('encoder',encoder)])\n",
    "preprocessor=ColumnTransformer(transformers=[('num',num_trans,new_nf),('cat',cat_trans,new_cf)])"
   ]
  },
  {
   "cell_type": "code",
   "execution_count": 31,
   "id": "6fd98adb",
   "metadata": {
    "execution": {
     "iopub.execute_input": "2024-08-09T14:05:19.965460Z",
     "iopub.status.busy": "2024-08-09T14:05:19.965059Z",
     "iopub.status.idle": "2024-08-09T14:05:19.983022Z",
     "shell.execute_reply": "2024-08-09T14:05:19.982122Z"
    },
    "papermill": {
     "duration": 0.052138,
     "end_time": "2024-08-09T14:05:19.985564",
     "exception": false,
     "start_time": "2024-08-09T14:05:19.933426",
     "status": "completed"
    },
    "tags": []
   },
   "outputs": [],
   "source": [
    "X_train,X_val,y_train,y_val=train_test_split(X,y,test_size=0.2,random_state=42)"
   ]
  },
  {
   "cell_type": "code",
   "execution_count": 32,
   "id": "6d768fd4",
   "metadata": {
    "execution": {
     "iopub.execute_input": "2024-08-09T14:05:20.047764Z",
     "iopub.status.busy": "2024-08-09T14:05:20.047331Z",
     "iopub.status.idle": "2024-08-09T14:05:20.057597Z",
     "shell.execute_reply": "2024-08-09T14:05:20.056445Z"
    },
    "papermill": {
     "duration": 0.043967,
     "end_time": "2024-08-09T14:05:20.059805",
     "exception": false,
     "start_time": "2024-08-09T14:05:20.015838",
     "status": "completed"
    },
    "tags": []
   },
   "outputs": [],
   "source": [
    "#for regression\n",
    "encoder_r=LabelEncoder()\n",
    "y_train_r=encoder_r.fit_transform(y_train)\n",
    "y_val_r=encoder_r.fit_transform(y_val)"
   ]
  },
  {
   "cell_type": "code",
   "execution_count": 33,
   "id": "2ce331e9",
   "metadata": {
    "execution": {
     "iopub.execute_input": "2024-08-09T14:05:20.122233Z",
     "iopub.status.busy": "2024-08-09T14:05:20.121400Z",
     "iopub.status.idle": "2024-08-09T14:05:20.332059Z",
     "shell.execute_reply": "2024-08-09T14:05:20.330907Z"
    },
    "papermill": {
     "duration": 0.244452,
     "end_time": "2024-08-09T14:05:20.334589",
     "exception": false,
     "start_time": "2024-08-09T14:05:20.090137",
     "status": "completed"
    },
    "tags": []
   },
   "outputs": [
    {
     "name": "stdout",
     "output_type": "stream",
     "text": [
      "X_train_p shape: (12132, 2256)\n"
     ]
    }
   ],
   "source": [
    "\n",
    "X_train_p = preprocessor.fit_transform(X_train)\n",
    "X_val_p = preprocessor.transform(X_val)\n",
    "\n",
    "\n",
    "print(\"X_train_p shape:\", X_train_p.shape)"
   ]
  },
  {
   "cell_type": "markdown",
   "id": "d783e922",
   "metadata": {
    "papermill": {
     "duration": 0.03027,
     "end_time": "2024-08-09T14:05:20.396568",
     "exception": false,
     "start_time": "2024-08-09T14:05:20.366298",
     "status": "completed"
    },
    "tags": []
   },
   "source": [
    "# Training The Models (CART, Bagging and Boosting, and MLP)"
   ]
  },
  {
   "cell_type": "markdown",
   "id": "aa7adaed",
   "metadata": {
    "papermill": {
     "duration": 0.02985,
     "end_time": "2024-08-09T14:05:20.456860",
     "exception": false,
     "start_time": "2024-08-09T14:05:20.427010",
     "status": "completed"
    },
    "tags": []
   },
   "source": [
    "1. Random Forest Classifier"
   ]
  },
  {
   "cell_type": "code",
   "execution_count": 34,
   "id": "8eeb8195",
   "metadata": {
    "execution": {
     "iopub.execute_input": "2024-08-09T14:05:20.522103Z",
     "iopub.status.busy": "2024-08-09T14:05:20.521701Z",
     "iopub.status.idle": "2024-08-09T14:10:09.604065Z",
     "shell.execute_reply": "2024-08-09T14:10:09.602753Z"
    },
    "papermill": {
     "duration": 289.150921,
     "end_time": "2024-08-09T14:10:09.638935",
     "exception": false,
     "start_time": "2024-08-09T14:05:20.488014",
     "status": "completed"
    },
    "tags": []
   },
   "outputs": [
    {
     "data": {
      "text/html": [
       "<style>#sk-container-id-1 {color: black;background-color: white;}#sk-container-id-1 pre{padding: 0;}#sk-container-id-1 div.sk-toggleable {background-color: white;}#sk-container-id-1 label.sk-toggleable__label {cursor: pointer;display: block;width: 100%;margin-bottom: 0;padding: 0.3em;box-sizing: border-box;text-align: center;}#sk-container-id-1 label.sk-toggleable__label-arrow:before {content: \"▸\";float: left;margin-right: 0.25em;color: #696969;}#sk-container-id-1 label.sk-toggleable__label-arrow:hover:before {color: black;}#sk-container-id-1 div.sk-estimator:hover label.sk-toggleable__label-arrow:before {color: black;}#sk-container-id-1 div.sk-toggleable__content {max-height: 0;max-width: 0;overflow: hidden;text-align: left;background-color: #f0f8ff;}#sk-container-id-1 div.sk-toggleable__content pre {margin: 0.2em;color: black;border-radius: 0.25em;background-color: #f0f8ff;}#sk-container-id-1 input.sk-toggleable__control:checked~div.sk-toggleable__content {max-height: 200px;max-width: 100%;overflow: auto;}#sk-container-id-1 input.sk-toggleable__control:checked~label.sk-toggleable__label-arrow:before {content: \"▾\";}#sk-container-id-1 div.sk-estimator input.sk-toggleable__control:checked~label.sk-toggleable__label {background-color: #d4ebff;}#sk-container-id-1 div.sk-label input.sk-toggleable__control:checked~label.sk-toggleable__label {background-color: #d4ebff;}#sk-container-id-1 input.sk-hidden--visually {border: 0;clip: rect(1px 1px 1px 1px);clip: rect(1px, 1px, 1px, 1px);height: 1px;margin: -1px;overflow: hidden;padding: 0;position: absolute;width: 1px;}#sk-container-id-1 div.sk-estimator {font-family: monospace;background-color: #f0f8ff;border: 1px dotted black;border-radius: 0.25em;box-sizing: border-box;margin-bottom: 0.5em;}#sk-container-id-1 div.sk-estimator:hover {background-color: #d4ebff;}#sk-container-id-1 div.sk-parallel-item::after {content: \"\";width: 100%;border-bottom: 1px solid gray;flex-grow: 1;}#sk-container-id-1 div.sk-label:hover label.sk-toggleable__label {background-color: #d4ebff;}#sk-container-id-1 div.sk-serial::before {content: \"\";position: absolute;border-left: 1px solid gray;box-sizing: border-box;top: 0;bottom: 0;left: 50%;z-index: 0;}#sk-container-id-1 div.sk-serial {display: flex;flex-direction: column;align-items: center;background-color: white;padding-right: 0.2em;padding-left: 0.2em;position: relative;}#sk-container-id-1 div.sk-item {position: relative;z-index: 1;}#sk-container-id-1 div.sk-parallel {display: flex;align-items: stretch;justify-content: center;background-color: white;position: relative;}#sk-container-id-1 div.sk-item::before, #sk-container-id-1 div.sk-parallel-item::before {content: \"\";position: absolute;border-left: 1px solid gray;box-sizing: border-box;top: 0;bottom: 0;left: 50%;z-index: -1;}#sk-container-id-1 div.sk-parallel-item {display: flex;flex-direction: column;z-index: 1;position: relative;background-color: white;}#sk-container-id-1 div.sk-parallel-item:first-child::after {align-self: flex-end;width: 50%;}#sk-container-id-1 div.sk-parallel-item:last-child::after {align-self: flex-start;width: 50%;}#sk-container-id-1 div.sk-parallel-item:only-child::after {width: 0;}#sk-container-id-1 div.sk-dashed-wrapped {border: 1px dashed gray;margin: 0 0.4em 0.5em 0.4em;box-sizing: border-box;padding-bottom: 0.4em;background-color: white;}#sk-container-id-1 div.sk-label label {font-family: monospace;font-weight: bold;display: inline-block;line-height: 1.2em;}#sk-container-id-1 div.sk-label-container {text-align: center;}#sk-container-id-1 div.sk-container {/* jupyter's `normalize.less` sets `[hidden] { display: none; }` but bootstrap.min.css set `[hidden] { display: none !important; }` so we also need the `!important` here to be able to override the default hidden behavior on the sphinx rendered scikit-learn.org. See: https://github.com/scikit-learn/scikit-learn/issues/21755 */display: inline-block !important;position: relative;}#sk-container-id-1 div.sk-text-repr-fallback {display: none;}</style><div id=\"sk-container-id-1\" class=\"sk-top-container\"><div class=\"sk-text-repr-fallback\"><pre>RandomizedSearchCV(cv=3, estimator=RandomForestClassifier(random_state=42),\n",
       "                   n_iter=50, n_jobs=-1,\n",
       "                   param_distributions={&#x27;criterion&#x27;: [&#x27;gini&#x27;, &#x27;entropy&#x27;],\n",
       "                                        &#x27;max_depth&#x27;: [10, None],\n",
       "                                        &#x27;max_features&#x27;: [&#x27;sqrt&#x27;, &#x27;log2&#x27;],\n",
       "                                        &#x27;min_samples_leaf&#x27;: [1, 4],\n",
       "                                        &#x27;min_samples_split&#x27;: [2, 10],\n",
       "                                        &#x27;n_estimators&#x27;: [100, 200, 400]},\n",
       "                   random_state=42)</pre><b>In a Jupyter environment, please rerun this cell to show the HTML representation or trust the notebook. <br />On GitHub, the HTML representation is unable to render, please try loading this page with nbviewer.org.</b></div><div class=\"sk-container\" hidden><div class=\"sk-item sk-dashed-wrapped\"><div class=\"sk-label-container\"><div class=\"sk-label sk-toggleable\"><input class=\"sk-toggleable__control sk-hidden--visually\" id=\"sk-estimator-id-1\" type=\"checkbox\" ><label for=\"sk-estimator-id-1\" class=\"sk-toggleable__label sk-toggleable__label-arrow\">RandomizedSearchCV</label><div class=\"sk-toggleable__content\"><pre>RandomizedSearchCV(cv=3, estimator=RandomForestClassifier(random_state=42),\n",
       "                   n_iter=50, n_jobs=-1,\n",
       "                   param_distributions={&#x27;criterion&#x27;: [&#x27;gini&#x27;, &#x27;entropy&#x27;],\n",
       "                                        &#x27;max_depth&#x27;: [10, None],\n",
       "                                        &#x27;max_features&#x27;: [&#x27;sqrt&#x27;, &#x27;log2&#x27;],\n",
       "                                        &#x27;min_samples_leaf&#x27;: [1, 4],\n",
       "                                        &#x27;min_samples_split&#x27;: [2, 10],\n",
       "                                        &#x27;n_estimators&#x27;: [100, 200, 400]},\n",
       "                   random_state=42)</pre></div></div></div><div class=\"sk-parallel\"><div class=\"sk-parallel-item\"><div class=\"sk-item\"><div class=\"sk-label-container\"><div class=\"sk-label sk-toggleable\"><input class=\"sk-toggleable__control sk-hidden--visually\" id=\"sk-estimator-id-2\" type=\"checkbox\" ><label for=\"sk-estimator-id-2\" class=\"sk-toggleable__label sk-toggleable__label-arrow\">estimator: RandomForestClassifier</label><div class=\"sk-toggleable__content\"><pre>RandomForestClassifier(random_state=42)</pre></div></div></div><div class=\"sk-serial\"><div class=\"sk-item\"><div class=\"sk-estimator sk-toggleable\"><input class=\"sk-toggleable__control sk-hidden--visually\" id=\"sk-estimator-id-3\" type=\"checkbox\" ><label for=\"sk-estimator-id-3\" class=\"sk-toggleable__label sk-toggleable__label-arrow\">RandomForestClassifier</label><div class=\"sk-toggleable__content\"><pre>RandomForestClassifier(random_state=42)</pre></div></div></div></div></div></div></div></div></div></div>"
      ],
      "text/plain": [
       "RandomizedSearchCV(cv=3, estimator=RandomForestClassifier(random_state=42),\n",
       "                   n_iter=50, n_jobs=-1,\n",
       "                   param_distributions={'criterion': ['gini', 'entropy'],\n",
       "                                        'max_depth': [10, None],\n",
       "                                        'max_features': ['sqrt', 'log2'],\n",
       "                                        'min_samples_leaf': [1, 4],\n",
       "                                        'min_samples_split': [2, 10],\n",
       "                                        'n_estimators': [100, 200, 400]},\n",
       "                   random_state=42)"
      ]
     },
     "execution_count": 34,
     "metadata": {},
     "output_type": "execute_result"
    }
   ],
   "source": [
    "param_dist_rf = {\n",
    "    'n_estimators': [100, 200,400],\n",
    "    'criterion': ['gini', 'entropy'],\n",
    "    'max_depth': [10,None],\n",
    "    'min_samples_split': [2, 10],\n",
    "    'min_samples_leaf': [1, 4],\n",
    "    'max_features': ['sqrt', 'log2'],\n",
    "}\n",
    "\n",
    "\n",
    "rf = RandomForestClassifier(random_state=42)\n",
    "\n",
    "\n",
    "random_search_rf = RandomizedSearchCV(rf, param_dist_rf, n_iter=50, cv=3, n_jobs=-1, random_state=42)\n",
    "\n",
    "random_search_rf.fit(X_train_p, y_train)"
   ]
  },
  {
   "cell_type": "code",
   "execution_count": 35,
   "id": "d7c7fb9e",
   "metadata": {
    "execution": {
     "iopub.execute_input": "2024-08-09T14:10:09.703885Z",
     "iopub.status.busy": "2024-08-09T14:10:09.703489Z",
     "iopub.status.idle": "2024-08-09T14:10:10.239790Z",
     "shell.execute_reply": "2024-08-09T14:10:10.238494Z"
    },
    "papermill": {
     "duration": 0.572398,
     "end_time": "2024-08-09T14:10:10.242858",
     "exception": false,
     "start_time": "2024-08-09T14:10:09.670460",
     "status": "completed"
    },
    "tags": []
   },
   "outputs": [
    {
     "name": "stdout",
     "output_type": "stream",
     "text": [
      "Accuracy: 0.9050758075148319\n"
     ]
    }
   ],
   "source": [
    "model1 = random_search_rf.best_estimator_\n",
    "\n",
    "y_pred = model1.predict(X_val_p)\n",
    "\n",
    "accuracy = accuracy_score(y_val, y_pred)\n",
    "print(\"Accuracy:\", accuracy)"
   ]
  },
  {
   "cell_type": "markdown",
   "id": "6f5311ce",
   "metadata": {
    "papermill": {
     "duration": 0.031194,
     "end_time": "2024-08-09T14:10:10.306508",
     "exception": false,
     "start_time": "2024-08-09T14:10:10.275314",
     "status": "completed"
    },
    "tags": []
   },
   "source": [
    "2. XGB Classifier"
   ]
  },
  {
   "cell_type": "code",
   "execution_count": 36,
   "id": "ad35be5b",
   "metadata": {
    "execution": {
     "iopub.execute_input": "2024-08-09T14:10:10.371934Z",
     "iopub.status.busy": "2024-08-09T14:10:10.371537Z",
     "iopub.status.idle": "2024-08-09T14:16:12.519164Z",
     "shell.execute_reply": "2024-08-09T14:16:12.518160Z"
    },
    "papermill": {
     "duration": 362.215729,
     "end_time": "2024-08-09T14:16:12.554483",
     "exception": false,
     "start_time": "2024-08-09T14:10:10.338754",
     "status": "completed"
    },
    "tags": []
   },
   "outputs": [
    {
     "name": "stderr",
     "output_type": "stream",
     "text": [
      "/opt/conda/lib/python3.10/site-packages/sklearn/model_selection/_search.py:305: UserWarning: The total space of parameters 81 is smaller than n_iter=100. Running 81 iterations. For exhaustive searches, use GridSearchCV.\n",
      "  warnings.warn(\n"
     ]
    },
    {
     "data": {
      "text/html": [
       "<style>#sk-container-id-2 {color: black;background-color: white;}#sk-container-id-2 pre{padding: 0;}#sk-container-id-2 div.sk-toggleable {background-color: white;}#sk-container-id-2 label.sk-toggleable__label {cursor: pointer;display: block;width: 100%;margin-bottom: 0;padding: 0.3em;box-sizing: border-box;text-align: center;}#sk-container-id-2 label.sk-toggleable__label-arrow:before {content: \"▸\";float: left;margin-right: 0.25em;color: #696969;}#sk-container-id-2 label.sk-toggleable__label-arrow:hover:before {color: black;}#sk-container-id-2 div.sk-estimator:hover label.sk-toggleable__label-arrow:before {color: black;}#sk-container-id-2 div.sk-toggleable__content {max-height: 0;max-width: 0;overflow: hidden;text-align: left;background-color: #f0f8ff;}#sk-container-id-2 div.sk-toggleable__content pre {margin: 0.2em;color: black;border-radius: 0.25em;background-color: #f0f8ff;}#sk-container-id-2 input.sk-toggleable__control:checked~div.sk-toggleable__content {max-height: 200px;max-width: 100%;overflow: auto;}#sk-container-id-2 input.sk-toggleable__control:checked~label.sk-toggleable__label-arrow:before {content: \"▾\";}#sk-container-id-2 div.sk-estimator input.sk-toggleable__control:checked~label.sk-toggleable__label {background-color: #d4ebff;}#sk-container-id-2 div.sk-label input.sk-toggleable__control:checked~label.sk-toggleable__label {background-color: #d4ebff;}#sk-container-id-2 input.sk-hidden--visually {border: 0;clip: rect(1px 1px 1px 1px);clip: rect(1px, 1px, 1px, 1px);height: 1px;margin: -1px;overflow: hidden;padding: 0;position: absolute;width: 1px;}#sk-container-id-2 div.sk-estimator {font-family: monospace;background-color: #f0f8ff;border: 1px dotted black;border-radius: 0.25em;box-sizing: border-box;margin-bottom: 0.5em;}#sk-container-id-2 div.sk-estimator:hover {background-color: #d4ebff;}#sk-container-id-2 div.sk-parallel-item::after {content: \"\";width: 100%;border-bottom: 1px solid gray;flex-grow: 1;}#sk-container-id-2 div.sk-label:hover label.sk-toggleable__label {background-color: #d4ebff;}#sk-container-id-2 div.sk-serial::before {content: \"\";position: absolute;border-left: 1px solid gray;box-sizing: border-box;top: 0;bottom: 0;left: 50%;z-index: 0;}#sk-container-id-2 div.sk-serial {display: flex;flex-direction: column;align-items: center;background-color: white;padding-right: 0.2em;padding-left: 0.2em;position: relative;}#sk-container-id-2 div.sk-item {position: relative;z-index: 1;}#sk-container-id-2 div.sk-parallel {display: flex;align-items: stretch;justify-content: center;background-color: white;position: relative;}#sk-container-id-2 div.sk-item::before, #sk-container-id-2 div.sk-parallel-item::before {content: \"\";position: absolute;border-left: 1px solid gray;box-sizing: border-box;top: 0;bottom: 0;left: 50%;z-index: -1;}#sk-container-id-2 div.sk-parallel-item {display: flex;flex-direction: column;z-index: 1;position: relative;background-color: white;}#sk-container-id-2 div.sk-parallel-item:first-child::after {align-self: flex-end;width: 50%;}#sk-container-id-2 div.sk-parallel-item:last-child::after {align-self: flex-start;width: 50%;}#sk-container-id-2 div.sk-parallel-item:only-child::after {width: 0;}#sk-container-id-2 div.sk-dashed-wrapped {border: 1px dashed gray;margin: 0 0.4em 0.5em 0.4em;box-sizing: border-box;padding-bottom: 0.4em;background-color: white;}#sk-container-id-2 div.sk-label label {font-family: monospace;font-weight: bold;display: inline-block;line-height: 1.2em;}#sk-container-id-2 div.sk-label-container {text-align: center;}#sk-container-id-2 div.sk-container {/* jupyter's `normalize.less` sets `[hidden] { display: none; }` but bootstrap.min.css set `[hidden] { display: none !important; }` so we also need the `!important` here to be able to override the default hidden behavior on the sphinx rendered scikit-learn.org. See: https://github.com/scikit-learn/scikit-learn/issues/21755 */display: inline-block !important;position: relative;}#sk-container-id-2 div.sk-text-repr-fallback {display: none;}</style><div id=\"sk-container-id-2\" class=\"sk-top-container\"><div class=\"sk-text-repr-fallback\"><pre>RandomizedSearchCV(cv=5,\n",
       "                   estimator=XGBClassifier(base_score=None, booster=None,\n",
       "                                           callbacks=None,\n",
       "                                           colsample_bylevel=None,\n",
       "                                           colsample_bynode=None,\n",
       "                                           colsample_bytree=None, device=None,\n",
       "                                           early_stopping_rounds=None,\n",
       "                                           enable_categorical=False,\n",
       "                                           eval_metric=None, feature_types=None,\n",
       "                                           gamma=None, grow_policy=None,\n",
       "                                           importance_type=None,\n",
       "                                           interaction_constraints=None,\n",
       "                                           learning_rate...\n",
       "                                           max_leaves=None,\n",
       "                                           min_child_weight=None, missing=nan,\n",
       "                                           monotone_constraints=None,\n",
       "                                           multi_strategy=None,\n",
       "                                           n_estimators=None, n_jobs=None,\n",
       "                                           num_parallel_tree=None,\n",
       "                                           random_state=42, ...),\n",
       "                   n_iter=100, n_jobs=-1,\n",
       "                   param_distributions={&#x27;learning_rate&#x27;: [0.1, 0.01, 0.001],\n",
       "                                        &#x27;max_depth&#x27;: [3, 4, 5],\n",
       "                                        &#x27;min_child_weight&#x27;: [1, 5, 10],\n",
       "                                        &#x27;subsample&#x27;: [0.6, 0.8, 1]},\n",
       "                   random_state=42, scoring=&#x27;accuracy&#x27;)</pre><b>In a Jupyter environment, please rerun this cell to show the HTML representation or trust the notebook. <br />On GitHub, the HTML representation is unable to render, please try loading this page with nbviewer.org.</b></div><div class=\"sk-container\" hidden><div class=\"sk-item sk-dashed-wrapped\"><div class=\"sk-label-container\"><div class=\"sk-label sk-toggleable\"><input class=\"sk-toggleable__control sk-hidden--visually\" id=\"sk-estimator-id-4\" type=\"checkbox\" ><label for=\"sk-estimator-id-4\" class=\"sk-toggleable__label sk-toggleable__label-arrow\">RandomizedSearchCV</label><div class=\"sk-toggleable__content\"><pre>RandomizedSearchCV(cv=5,\n",
       "                   estimator=XGBClassifier(base_score=None, booster=None,\n",
       "                                           callbacks=None,\n",
       "                                           colsample_bylevel=None,\n",
       "                                           colsample_bynode=None,\n",
       "                                           colsample_bytree=None, device=None,\n",
       "                                           early_stopping_rounds=None,\n",
       "                                           enable_categorical=False,\n",
       "                                           eval_metric=None, feature_types=None,\n",
       "                                           gamma=None, grow_policy=None,\n",
       "                                           importance_type=None,\n",
       "                                           interaction_constraints=None,\n",
       "                                           learning_rate...\n",
       "                                           max_leaves=None,\n",
       "                                           min_child_weight=None, missing=nan,\n",
       "                                           monotone_constraints=None,\n",
       "                                           multi_strategy=None,\n",
       "                                           n_estimators=None, n_jobs=None,\n",
       "                                           num_parallel_tree=None,\n",
       "                                           random_state=42, ...),\n",
       "                   n_iter=100, n_jobs=-1,\n",
       "                   param_distributions={&#x27;learning_rate&#x27;: [0.1, 0.01, 0.001],\n",
       "                                        &#x27;max_depth&#x27;: [3, 4, 5],\n",
       "                                        &#x27;min_child_weight&#x27;: [1, 5, 10],\n",
       "                                        &#x27;subsample&#x27;: [0.6, 0.8, 1]},\n",
       "                   random_state=42, scoring=&#x27;accuracy&#x27;)</pre></div></div></div><div class=\"sk-parallel\"><div class=\"sk-parallel-item\"><div class=\"sk-item\"><div class=\"sk-label-container\"><div class=\"sk-label sk-toggleable\"><input class=\"sk-toggleable__control sk-hidden--visually\" id=\"sk-estimator-id-5\" type=\"checkbox\" ><label for=\"sk-estimator-id-5\" class=\"sk-toggleable__label sk-toggleable__label-arrow\">estimator: XGBClassifier</label><div class=\"sk-toggleable__content\"><pre>XGBClassifier(base_score=None, booster=None, callbacks=None,\n",
       "              colsample_bylevel=None, colsample_bynode=None,\n",
       "              colsample_bytree=None, device=None, early_stopping_rounds=None,\n",
       "              enable_categorical=False, eval_metric=None, feature_types=None,\n",
       "              gamma=None, grow_policy=None, importance_type=None,\n",
       "              interaction_constraints=None, learning_rate=None, max_bin=None,\n",
       "              max_cat_threshold=None, max_cat_to_onehot=None,\n",
       "              max_delta_step=None, max_depth=None, max_leaves=None,\n",
       "              min_child_weight=None, missing=nan, monotone_constraints=None,\n",
       "              multi_strategy=None, n_estimators=None, n_jobs=None,\n",
       "              num_parallel_tree=None, random_state=42, ...)</pre></div></div></div><div class=\"sk-serial\"><div class=\"sk-item\"><div class=\"sk-estimator sk-toggleable\"><input class=\"sk-toggleable__control sk-hidden--visually\" id=\"sk-estimator-id-6\" type=\"checkbox\" ><label for=\"sk-estimator-id-6\" class=\"sk-toggleable__label sk-toggleable__label-arrow\">XGBClassifier</label><div class=\"sk-toggleable__content\"><pre>XGBClassifier(base_score=None, booster=None, callbacks=None,\n",
       "              colsample_bylevel=None, colsample_bynode=None,\n",
       "              colsample_bytree=None, device=None, early_stopping_rounds=None,\n",
       "              enable_categorical=False, eval_metric=None, feature_types=None,\n",
       "              gamma=None, grow_policy=None, importance_type=None,\n",
       "              interaction_constraints=None, learning_rate=None, max_bin=None,\n",
       "              max_cat_threshold=None, max_cat_to_onehot=None,\n",
       "              max_delta_step=None, max_depth=None, max_leaves=None,\n",
       "              min_child_weight=None, missing=nan, monotone_constraints=None,\n",
       "              multi_strategy=None, n_estimators=None, n_jobs=None,\n",
       "              num_parallel_tree=None, random_state=42, ...)</pre></div></div></div></div></div></div></div></div></div></div>"
      ],
      "text/plain": [
       "RandomizedSearchCV(cv=5,\n",
       "                   estimator=XGBClassifier(base_score=None, booster=None,\n",
       "                                           callbacks=None,\n",
       "                                           colsample_bylevel=None,\n",
       "                                           colsample_bynode=None,\n",
       "                                           colsample_bytree=None, device=None,\n",
       "                                           early_stopping_rounds=None,\n",
       "                                           enable_categorical=False,\n",
       "                                           eval_metric=None, feature_types=None,\n",
       "                                           gamma=None, grow_policy=None,\n",
       "                                           importance_type=None,\n",
       "                                           interaction_constraints=None,\n",
       "                                           learning_rate...\n",
       "                                           max_leaves=None,\n",
       "                                           min_child_weight=None, missing=nan,\n",
       "                                           monotone_constraints=None,\n",
       "                                           multi_strategy=None,\n",
       "                                           n_estimators=None, n_jobs=None,\n",
       "                                           num_parallel_tree=None,\n",
       "                                           random_state=42, ...),\n",
       "                   n_iter=100, n_jobs=-1,\n",
       "                   param_distributions={'learning_rate': [0.1, 0.01, 0.001],\n",
       "                                        'max_depth': [3, 4, 5],\n",
       "                                        'min_child_weight': [1, 5, 10],\n",
       "                                        'subsample': [0.6, 0.8, 1]},\n",
       "                   random_state=42, scoring='accuracy')"
      ]
     },
     "execution_count": 36,
     "metadata": {},
     "output_type": "execute_result"
    }
   ],
   "source": [
    "param_grid = {\n",
    "    'min_child_weight': [1, 5, 10],\n",
    "    'max_depth': [3, 4, 5],\n",
    "    'learning_rate': [0.1, 0.01,0.001],\n",
    "    'subsample': [0.6, 0.8, 1],\n",
    "}\n",
    "\n",
    "xgb = XGBClassifier(random_state=42)\n",
    "\n",
    "\n",
    "# Setup RandomizedSearchCV\n",
    "random_search_xgb = RandomizedSearchCV(xgb,param_grid, n_iter=100, cv=5, scoring='accuracy', random_state=42, n_jobs=-1)\n",
    "\n",
    "# Fit RandomizedSearchCV\n",
    "random_search_xgb.fit(X_train_p, y_train_r)"
   ]
  },
  {
   "cell_type": "code",
   "execution_count": 37,
   "id": "14e37067",
   "metadata": {
    "execution": {
     "iopub.execute_input": "2024-08-09T14:16:12.620040Z",
     "iopub.status.busy": "2024-08-09T14:16:12.619655Z",
     "iopub.status.idle": "2024-08-09T14:16:12.666452Z",
     "shell.execute_reply": "2024-08-09T14:16:12.665553Z"
    },
    "papermill": {
     "duration": 0.082586,
     "end_time": "2024-08-09T14:16:12.668911",
     "exception": false,
     "start_time": "2024-08-09T14:16:12.586325",
     "status": "completed"
    },
    "tags": []
   },
   "outputs": [
    {
     "name": "stdout",
     "output_type": "stream",
     "text": [
      "Accuracy: 0.9258404746209624\n"
     ]
    }
   ],
   "source": [
    "model2= random_search_xgb.best_estimator_\n",
    "y_pred=model2.predict(X_val_p)\n",
    "accuracy = accuracy_score(y_val_r, y_pred)\n",
    "print(\"Accuracy:\", accuracy)"
   ]
  },
  {
   "cell_type": "code",
   "execution_count": 38,
   "id": "0a98859c",
   "metadata": {
    "execution": {
     "iopub.execute_input": "2024-08-09T14:16:12.738678Z",
     "iopub.status.busy": "2024-08-09T14:16:12.737729Z",
     "iopub.status.idle": "2024-08-09T14:16:13.011573Z",
     "shell.execute_reply": "2024-08-09T14:16:13.010297Z"
    },
    "papermill": {
     "duration": 0.310159,
     "end_time": "2024-08-09T14:16:13.014150",
     "exception": false,
     "start_time": "2024-08-09T14:16:12.703991",
     "status": "completed"
    },
    "tags": []
   },
   "outputs": [
    {
     "data": {
      "image/png": "[encoded data removed]",
      "text/plain": [
       "<Figure size 640x480 with 2 Axes>"
      ]
     },
     "metadata": {},
     "output_type": "display_data"
    }
   ],
   "source": [
    "ConfusionMatrixDisplay.from_predictions(y_val_r,y_pred,labels=[0,1])\n",
    "plt.show()"
   ]
  },
  {
   "cell_type": "markdown",
   "id": "6ea72907",
   "metadata": {
    "papermill": {
     "duration": 0.03224,
     "end_time": "2024-08-09T14:16:13.079220",
     "exception": false,
     "start_time": "2024-08-09T14:16:13.046980",
     "status": "completed"
    },
    "tags": []
   },
   "source": [
    "3. Bagging Classifier"
   ]
  },
  {
   "cell_type": "code",
   "execution_count": 39,
   "id": "f8ae4895",
   "metadata": {
    "execution": {
     "iopub.execute_input": "2024-08-09T14:16:13.146232Z",
     "iopub.status.busy": "2024-08-09T14:16:13.145856Z",
     "iopub.status.idle": "2024-08-09T14:22:12.128245Z",
     "shell.execute_reply": "2024-08-09T14:22:12.127099Z"
    },
    "papermill": {
     "duration": 359.05238,
     "end_time": "2024-08-09T14:22:12.164331",
     "exception": false,
     "start_time": "2024-08-09T14:16:13.111951",
     "status": "completed"
    },
    "tags": []
   },
   "outputs": [
    {
     "data": {
      "text/html": [
       "<style>#sk-container-id-3 {color: black;background-color: white;}#sk-container-id-3 pre{padding: 0;}#sk-container-id-3 div.sk-toggleable {background-color: white;}#sk-container-id-3 label.sk-toggleable__label {cursor: pointer;display: block;width: 100%;margin-bottom: 0;padding: 0.3em;box-sizing: border-box;text-align: center;}#sk-container-id-3 label.sk-toggleable__label-arrow:before {content: \"▸\";float: left;margin-right: 0.25em;color: #696969;}#sk-container-id-3 label.sk-toggleable__label-arrow:hover:before {color: black;}#sk-container-id-3 div.sk-estimator:hover label.sk-toggleable__label-arrow:before {color: black;}#sk-container-id-3 div.sk-toggleable__content {max-height: 0;max-width: 0;overflow: hidden;text-align: left;background-color: #f0f8ff;}#sk-container-id-3 div.sk-toggleable__content pre {margin: 0.2em;color: black;border-radius: 0.25em;background-color: #f0f8ff;}#sk-container-id-3 input.sk-toggleable__control:checked~div.sk-toggleable__content {max-height: 200px;max-width: 100%;overflow: auto;}#sk-container-id-3 input.sk-toggleable__control:checked~label.sk-toggleable__label-arrow:before {content: \"▾\";}#sk-container-id-3 div.sk-estimator input.sk-toggleable__control:checked~label.sk-toggleable__label {background-color: #d4ebff;}#sk-container-id-3 div.sk-label input.sk-toggleable__control:checked~label.sk-toggleable__label {background-color: #d4ebff;}#sk-container-id-3 input.sk-hidden--visually {border: 0;clip: rect(1px 1px 1px 1px);clip: rect(1px, 1px, 1px, 1px);height: 1px;margin: -1px;overflow: hidden;padding: 0;position: absolute;width: 1px;}#sk-container-id-3 div.sk-estimator {font-family: monospace;background-color: #f0f8ff;border: 1px dotted black;border-radius: 0.25em;box-sizing: border-box;margin-bottom: 0.5em;}#sk-container-id-3 div.sk-estimator:hover {background-color: #d4ebff;}#sk-container-id-3 div.sk-parallel-item::after {content: \"\";width: 100%;border-bottom: 1px solid gray;flex-grow: 1;}#sk-container-id-3 div.sk-label:hover label.sk-toggleable__label {background-color: #d4ebff;}#sk-container-id-3 div.sk-serial::before {content: \"\";position: absolute;border-left: 1px solid gray;box-sizing: border-box;top: 0;bottom: 0;left: 50%;z-index: 0;}#sk-container-id-3 div.sk-serial {display: flex;flex-direction: column;align-items: center;background-color: white;padding-right: 0.2em;padding-left: 0.2em;position: relative;}#sk-container-id-3 div.sk-item {position: relative;z-index: 1;}#sk-container-id-3 div.sk-parallel {display: flex;align-items: stretch;justify-content: center;background-color: white;position: relative;}#sk-container-id-3 div.sk-item::before, #sk-container-id-3 div.sk-parallel-item::before {content: \"\";position: absolute;border-left: 1px solid gray;box-sizing: border-box;top: 0;bottom: 0;left: 50%;z-index: -1;}#sk-container-id-3 div.sk-parallel-item {display: flex;flex-direction: column;z-index: 1;position: relative;background-color: white;}#sk-container-id-3 div.sk-parallel-item:first-child::after {align-self: flex-end;width: 50%;}#sk-container-id-3 div.sk-parallel-item:last-child::after {align-self: flex-start;width: 50%;}#sk-container-id-3 div.sk-parallel-item:only-child::after {width: 0;}#sk-container-id-3 div.sk-dashed-wrapped {border: 1px dashed gray;margin: 0 0.4em 0.5em 0.4em;box-sizing: border-box;padding-bottom: 0.4em;background-color: white;}#sk-container-id-3 div.sk-label label {font-family: monospace;font-weight: bold;display: inline-block;line-height: 1.2em;}#sk-container-id-3 div.sk-label-container {text-align: center;}#sk-container-id-3 div.sk-container {/* jupyter's `normalize.less` sets `[hidden] { display: none; }` but bootstrap.min.css set `[hidden] { display: none !important; }` so we also need the `!important` here to be able to override the default hidden behavior on the sphinx rendered scikit-learn.org. See: https://github.com/scikit-learn/scikit-learn/issues/21755 */display: inline-block !important;position: relative;}#sk-container-id-3 div.sk-text-repr-fallback {display: none;}</style><div id=\"sk-container-id-3\" class=\"sk-top-container\"><div class=\"sk-text-repr-fallback\"><pre>RandomizedSearchCV(cv=5,\n",
       "                   estimator=BaggingClassifier(estimator=DecisionTreeClassifier(random_state=42),\n",
       "                                               random_state=42),\n",
       "                   n_jobs=-1,\n",
       "                   param_distributions={&#x27;max_features&#x27;: [0.1, 0.2, 0.5, 1.0],\n",
       "                                        &#x27;max_samples&#x27;: [0.5, 1.0],\n",
       "                                        &#x27;n_estimators&#x27;: [50, 100]},\n",
       "                   scoring=&#x27;accuracy&#x27;)</pre><b>In a Jupyter environment, please rerun this cell to show the HTML representation or trust the notebook. <br />On GitHub, the HTML representation is unable to render, please try loading this page with nbviewer.org.</b></div><div class=\"sk-container\" hidden><div class=\"sk-item sk-dashed-wrapped\"><div class=\"sk-label-container\"><div class=\"sk-label sk-toggleable\"><input class=\"sk-toggleable__control sk-hidden--visually\" id=\"sk-estimator-id-7\" type=\"checkbox\" ><label for=\"sk-estimator-id-7\" class=\"sk-toggleable__label sk-toggleable__label-arrow\">RandomizedSearchCV</label><div class=\"sk-toggleable__content\"><pre>RandomizedSearchCV(cv=5,\n",
       "                   estimator=BaggingClassifier(estimator=DecisionTreeClassifier(random_state=42),\n",
       "                                               random_state=42),\n",
       "                   n_jobs=-1,\n",
       "                   param_distributions={&#x27;max_features&#x27;: [0.1, 0.2, 0.5, 1.0],\n",
       "                                        &#x27;max_samples&#x27;: [0.5, 1.0],\n",
       "                                        &#x27;n_estimators&#x27;: [50, 100]},\n",
       "                   scoring=&#x27;accuracy&#x27;)</pre></div></div></div><div class=\"sk-parallel\"><div class=\"sk-parallel-item\"><div class=\"sk-item\"><div class=\"sk-label-container\"><div class=\"sk-label sk-toggleable\"><input class=\"sk-toggleable__control sk-hidden--visually\" id=\"sk-estimator-id-8\" type=\"checkbox\" ><label for=\"sk-estimator-id-8\" class=\"sk-toggleable__label sk-toggleable__label-arrow\">estimator: BaggingClassifier</label><div class=\"sk-toggleable__content\"><pre>BaggingClassifier(estimator=DecisionTreeClassifier(random_state=42),\n",
       "                  random_state=42)</pre></div></div></div><div class=\"sk-serial\"><div class=\"sk-item sk-dashed-wrapped\"><div class=\"sk-parallel\"><div class=\"sk-parallel-item\"><div class=\"sk-item\"><div class=\"sk-label-container\"><div class=\"sk-label sk-toggleable\"><input class=\"sk-toggleable__control sk-hidden--visually\" id=\"sk-estimator-id-9\" type=\"checkbox\" ><label for=\"sk-estimator-id-9\" class=\"sk-toggleable__label sk-toggleable__label-arrow\">estimator: DecisionTreeClassifier</label><div class=\"sk-toggleable__content\"><pre>DecisionTreeClassifier(random_state=42)</pre></div></div></div><div class=\"sk-serial\"><div class=\"sk-item\"><div class=\"sk-estimator sk-toggleable\"><input class=\"sk-toggleable__control sk-hidden--visually\" id=\"sk-estimator-id-10\" type=\"checkbox\" ><label for=\"sk-estimator-id-10\" class=\"sk-toggleable__label sk-toggleable__label-arrow\">DecisionTreeClassifier</label><div class=\"sk-toggleable__content\"><pre>DecisionTreeClassifier(random_state=42)</pre></div></div></div></div></div></div></div></div></div></div></div></div></div></div></div>"
      ],
      "text/plain": [
       "RandomizedSearchCV(cv=5,\n",
       "                   estimator=BaggingClassifier(estimator=DecisionTreeClassifier(random_state=42),\n",
       "                                               random_state=42),\n",
       "                   n_jobs=-1,\n",
       "                   param_distributions={'max_features': [0.1, 0.2, 0.5, 1.0],\n",
       "                                        'max_samples': [0.5, 1.0],\n",
       "                                        'n_estimators': [50, 100]},\n",
       "                   scoring='accuracy')"
      ]
     },
     "execution_count": 39,
     "metadata": {},
     "output_type": "execute_result"
    }
   ],
   "source": [
    "param_grid_bagging = {\n",
    "    'n_estimators': [50, 100],\n",
    "    'max_samples': [0.5, 1.0],\n",
    "    'max_features': [0.1,0.2,0.5, 1.0],\n",
    "}\n",
    "base_estimator = DecisionTreeClassifier(random_state=42)\n",
    "bagging = BaggingClassifier(estimator=base_estimator, random_state=42)\n",
    "\n",
    "random_search_bag = RandomizedSearchCV(bagging, param_grid_bagging, cv=5, scoring='accuracy', n_jobs=-1)\n",
    "\n",
    "random_search_bag.fit(X_train_p, y_train)"
   ]
  },
  {
   "cell_type": "code",
   "execution_count": 40,
   "id": "0f55d89f",
   "metadata": {
    "execution": {
     "iopub.execute_input": "2024-08-09T14:22:12.231378Z",
     "iopub.status.busy": "2024-08-09T14:22:12.230988Z",
     "iopub.status.idle": "2024-08-09T14:22:12.477225Z",
     "shell.execute_reply": "2024-08-09T14:22:12.475881Z"
    },
    "papermill": {
     "duration": 0.282771,
     "end_time": "2024-08-09T14:22:12.479701",
     "exception": false,
     "start_time": "2024-08-09T14:22:12.196930",
     "status": "completed"
    },
    "tags": []
   },
   "outputs": [
    {
     "name": "stdout",
     "output_type": "stream",
     "text": [
      "Accuracy: 0.9251812788398154\n"
     ]
    }
   ],
   "source": [
    "model3= random_search_bag.best_estimator_\n",
    "y_pred=model3.predict(X_val_p)\n",
    "accuracy = accuracy_score(y_val, y_pred)\n",
    "print(\"Accuracy:\", accuracy)"
   ]
  },
  {
   "cell_type": "code",
   "execution_count": 41,
   "id": "be77e57c",
   "metadata": {
    "execution": {
     "iopub.execute_input": "2024-08-09T14:22:12.547865Z",
     "iopub.status.busy": "2024-08-09T14:22:12.546892Z",
     "iopub.status.idle": "2024-08-09T14:22:12.709576Z",
     "shell.execute_reply": "2024-08-09T14:22:12.708268Z"
    },
    "papermill": {
     "duration": 0.199584,
     "end_time": "2024-08-09T14:22:12.712333",
     "exception": false,
     "start_time": "2024-08-09T14:22:12.512749",
     "status": "completed"
    },
    "tags": []
   },
   "outputs": [
    {
     "name": "stdout",
     "output_type": "stream",
     "text": [
      "                               precision    recall  f1-score   support\n",
      "\n",
      "              Property Crimes       0.68      0.48      0.56        44\n",
      "               Violent Crimes       0.82      0.81      0.82       325\n",
      "                 Other Crimes       0.90      0.93      0.92       253\n",
      "  Crimes against Public Order       0.38      0.10      0.16        30\n",
      "Fraud and White-Collar Crimes       0.99      0.95      0.97      1481\n",
      "       Crimes against Persons       0.88      0.97      0.92       901\n",
      "\n",
      "                     accuracy                           0.93      3034\n",
      "                    macro avg       0.77      0.71      0.72      3034\n",
      "                 weighted avg       0.92      0.93      0.92      3034\n",
      "\n"
     ]
    }
   ],
   "source": [
    "target=['Property Crimes', 'Violent Crimes', 'Other Crimes','Crimes against Public Order', 'Fraud and White-Collar Crimes','Crimes against Persons']\n",
    "print(classification_report(y_val, y_pred, target_names=target))"
   ]
  },
  {
   "cell_type": "markdown",
   "id": "620c2625",
   "metadata": {
    "papermill": {
     "duration": 0.034195,
     "end_time": "2024-08-09T14:22:12.779693",
     "exception": false,
     "start_time": "2024-08-09T14:22:12.745498",
     "status": "completed"
    },
    "tags": []
   },
   "source": [
    "4. Gradient Boosting Classifier"
   ]
  },
  {
   "cell_type": "code",
   "execution_count": 42,
   "id": "af9a649d",
   "metadata": {
    "execution": {
     "iopub.execute_input": "2024-08-09T14:22:12.847673Z",
     "iopub.status.busy": "2024-08-09T14:22:12.846978Z",
     "iopub.status.idle": "2024-08-09T14:31:20.806593Z",
     "shell.execute_reply": "2024-08-09T14:31:20.805372Z"
    },
    "papermill": {
     "duration": 548.029879,
     "end_time": "2024-08-09T14:31:20.842596",
     "exception": false,
     "start_time": "2024-08-09T14:22:12.812717",
     "status": "completed"
    },
    "tags": []
   },
   "outputs": [
    {
     "data": {
      "text/html": [
       "<style>#sk-container-id-4 {color: black;background-color: white;}#sk-container-id-4 pre{padding: 0;}#sk-container-id-4 div.sk-toggleable {background-color: white;}#sk-container-id-4 label.sk-toggleable__label {cursor: pointer;display: block;width: 100%;margin-bottom: 0;padding: 0.3em;box-sizing: border-box;text-align: center;}#sk-container-id-4 label.sk-toggleable__label-arrow:before {content: \"▸\";float: left;margin-right: 0.25em;color: #696969;}#sk-container-id-4 label.sk-toggleable__label-arrow:hover:before {color: black;}#sk-container-id-4 div.sk-estimator:hover label.sk-toggleable__label-arrow:before {color: black;}#sk-container-id-4 div.sk-toggleable__content {max-height: 0;max-width: 0;overflow: hidden;text-align: left;background-color: #f0f8ff;}#sk-container-id-4 div.sk-toggleable__content pre {margin: 0.2em;color: black;border-radius: 0.25em;background-color: #f0f8ff;}#sk-container-id-4 input.sk-toggleable__control:checked~div.sk-toggleable__content {max-height: 200px;max-width: 100%;overflow: auto;}#sk-container-id-4 input.sk-toggleable__control:checked~label.sk-toggleable__label-arrow:before {content: \"▾\";}#sk-container-id-4 div.sk-estimator input.sk-toggleable__control:checked~label.sk-toggleable__label {background-color: #d4ebff;}#sk-container-id-4 div.sk-label input.sk-toggleable__control:checked~label.sk-toggleable__label {background-color: #d4ebff;}#sk-container-id-4 input.sk-hidden--visually {border: 0;clip: rect(1px 1px 1px 1px);clip: rect(1px, 1px, 1px, 1px);height: 1px;margin: -1px;overflow: hidden;padding: 0;position: absolute;width: 1px;}#sk-container-id-4 div.sk-estimator {font-family: monospace;background-color: #f0f8ff;border: 1px dotted black;border-radius: 0.25em;box-sizing: border-box;margin-bottom: 0.5em;}#sk-container-id-4 div.sk-estimator:hover {background-color: #d4ebff;}#sk-container-id-4 div.sk-parallel-item::after {content: \"\";width: 100%;border-bottom: 1px solid gray;flex-grow: 1;}#sk-container-id-4 div.sk-label:hover label.sk-toggleable__label {background-color: #d4ebff;}#sk-container-id-4 div.sk-serial::before {content: \"\";position: absolute;border-left: 1px solid gray;box-sizing: border-box;top: 0;bottom: 0;left: 50%;z-index: 0;}#sk-container-id-4 div.sk-serial {display: flex;flex-direction: column;align-items: center;background-color: white;padding-right: 0.2em;padding-left: 0.2em;position: relative;}#sk-container-id-4 div.sk-item {position: relative;z-index: 1;}#sk-container-id-4 div.sk-parallel {display: flex;align-items: stretch;justify-content: center;background-color: white;position: relative;}#sk-container-id-4 div.sk-item::before, #sk-container-id-4 div.sk-parallel-item::before {content: \"\";position: absolute;border-left: 1px solid gray;box-sizing: border-box;top: 0;bottom: 0;left: 50%;z-index: -1;}#sk-container-id-4 div.sk-parallel-item {display: flex;flex-direction: column;z-index: 1;position: relative;background-color: white;}#sk-container-id-4 div.sk-parallel-item:first-child::after {align-self: flex-end;width: 50%;}#sk-container-id-4 div.sk-parallel-item:last-child::after {align-self: flex-start;width: 50%;}#sk-container-id-4 div.sk-parallel-item:only-child::after {width: 0;}#sk-container-id-4 div.sk-dashed-wrapped {border: 1px dashed gray;margin: 0 0.4em 0.5em 0.4em;box-sizing: border-box;padding-bottom: 0.4em;background-color: white;}#sk-container-id-4 div.sk-label label {font-family: monospace;font-weight: bold;display: inline-block;line-height: 1.2em;}#sk-container-id-4 div.sk-label-container {text-align: center;}#sk-container-id-4 div.sk-container {/* jupyter's `normalize.less` sets `[hidden] { display: none; }` but bootstrap.min.css set `[hidden] { display: none !important; }` so we also need the `!important` here to be able to override the default hidden behavior on the sphinx rendered scikit-learn.org. See: https://github.com/scikit-learn/scikit-learn/issues/21755 */display: inline-block !important;position: relative;}#sk-container-id-4 div.sk-text-repr-fallback {display: none;}</style><div id=\"sk-container-id-4\" class=\"sk-top-container\"><div class=\"sk-text-repr-fallback\"><pre>RandomizedSearchCV(cv=5, estimator=GradientBoostingClassifier(random_state=42),\n",
       "                   n_jobs=-1,\n",
       "                   param_distributions={&#x27;learning_rate&#x27;: [0.05, 0.1],\n",
       "                                        &#x27;max_depth&#x27;: [3, 5],\n",
       "                                        &#x27;min_samples_split&#x27;: [2, 5],\n",
       "                                        &#x27;n_estimators&#x27;: [50, 100],\n",
       "                                        &#x27;subsample&#x27;: [0.8, 1.0]},\n",
       "                   scoring=&#x27;accuracy&#x27;)</pre><b>In a Jupyter environment, please rerun this cell to show the HTML representation or trust the notebook. <br />On GitHub, the HTML representation is unable to render, please try loading this page with nbviewer.org.</b></div><div class=\"sk-container\" hidden><div class=\"sk-item sk-dashed-wrapped\"><div class=\"sk-label-container\"><div class=\"sk-label sk-toggleable\"><input class=\"sk-toggleable__control sk-hidden--visually\" id=\"sk-estimator-id-11\" type=\"checkbox\" ><label for=\"sk-estimator-id-11\" class=\"sk-toggleable__label sk-toggleable__label-arrow\">RandomizedSearchCV</label><div class=\"sk-toggleable__content\"><pre>RandomizedSearchCV(cv=5, estimator=GradientBoostingClassifier(random_state=42),\n",
       "                   n_jobs=-1,\n",
       "                   param_distributions={&#x27;learning_rate&#x27;: [0.05, 0.1],\n",
       "                                        &#x27;max_depth&#x27;: [3, 5],\n",
       "                                        &#x27;min_samples_split&#x27;: [2, 5],\n",
       "                                        &#x27;n_estimators&#x27;: [50, 100],\n",
       "                                        &#x27;subsample&#x27;: [0.8, 1.0]},\n",
       "                   scoring=&#x27;accuracy&#x27;)</pre></div></div></div><div class=\"sk-parallel\"><div class=\"sk-parallel-item\"><div class=\"sk-item\"><div class=\"sk-label-container\"><div class=\"sk-label sk-toggleable\"><input class=\"sk-toggleable__control sk-hidden--visually\" id=\"sk-estimator-id-12\" type=\"checkbox\" ><label for=\"sk-estimator-id-12\" class=\"sk-toggleable__label sk-toggleable__label-arrow\">estimator: GradientBoostingClassifier</label><div class=\"sk-toggleable__content\"><pre>GradientBoostingClassifier(random_state=42)</pre></div></div></div><div class=\"sk-serial\"><div class=\"sk-item\"><div class=\"sk-estimator sk-toggleable\"><input class=\"sk-toggleable__control sk-hidden--visually\" id=\"sk-estimator-id-13\" type=\"checkbox\" ><label for=\"sk-estimator-id-13\" class=\"sk-toggleable__label sk-toggleable__label-arrow\">GradientBoostingClassifier</label><div class=\"sk-toggleable__content\"><pre>GradientBoostingClassifier(random_state=42)</pre></div></div></div></div></div></div></div></div></div></div>"
      ],
      "text/plain": [
       "RandomizedSearchCV(cv=5, estimator=GradientBoostingClassifier(random_state=42),\n",
       "                   n_jobs=-1,\n",
       "                   param_distributions={'learning_rate': [0.05, 0.1],\n",
       "                                        'max_depth': [3, 5],\n",
       "                                        'min_samples_split': [2, 5],\n",
       "                                        'n_estimators': [50, 100],\n",
       "                                        'subsample': [0.8, 1.0]},\n",
       "                   scoring='accuracy')"
      ]
     },
     "execution_count": 42,
     "metadata": {},
     "output_type": "execute_result"
    }
   ],
   "source": [
    "param_grid_gb = {\n",
    "    'n_estimators': [50, 100],\n",
    "    'learning_rate': [0.05, 0.1],\n",
    "    'max_depth': [3, 5],\n",
    "    'min_samples_split': [2, 5],\n",
    "    'subsample': [0.8, 1.0],\n",
    "}\n",
    "\n",
    "gb = GradientBoostingClassifier(random_state=42)\n",
    "\n",
    "random_search_gb = RandomizedSearchCV(gb, param_grid_gb, cv=5, scoring='accuracy', n_jobs=-1)\n",
    "\n",
    "# Fit GridSearchCV\n",
    "random_search_gb.fit(X_train_p, y_train)"
   ]
  },
  {
   "cell_type": "code",
   "execution_count": 43,
   "id": "4d23c754",
   "metadata": {
    "execution": {
     "iopub.execute_input": "2024-08-09T14:31:20.912577Z",
     "iopub.status.busy": "2024-08-09T14:31:20.912151Z",
     "iopub.status.idle": "2024-08-09T14:31:20.974156Z",
     "shell.execute_reply": "2024-08-09T14:31:20.972912Z"
    },
    "papermill": {
     "duration": 0.100338,
     "end_time": "2024-08-09T14:31:20.976829",
     "exception": false,
     "start_time": "2024-08-09T14:31:20.876491",
     "status": "completed"
    },
    "tags": []
   },
   "outputs": [
    {
     "name": "stdout",
     "output_type": "stream",
     "text": [
      "Accuracy: 0.9301252471984179\n"
     ]
    }
   ],
   "source": [
    "model4= random_search_gb.best_estimator_\n",
    "y_pred=model4.predict(X_val_p)\n",
    "accuracy = accuracy_score(y_val, y_pred)\n",
    "print(\"Accuracy:\", accuracy)"
   ]
  },
  {
   "cell_type": "code",
   "execution_count": 44,
   "id": "ee8e77a8",
   "metadata": {
    "execution": {
     "iopub.execute_input": "2024-08-09T14:31:21.046844Z",
     "iopub.status.busy": "2024-08-09T14:31:21.045869Z",
     "iopub.status.idle": "2024-08-09T14:31:21.072355Z",
     "shell.execute_reply": "2024-08-09T14:31:21.071137Z"
    },
    "papermill": {
     "duration": 0.064189,
     "end_time": "2024-08-09T14:31:21.074943",
     "exception": false,
     "start_time": "2024-08-09T14:31:21.010754",
     "status": "completed"
    },
    "tags": []
   },
   "outputs": [
    {
     "name": "stdout",
     "output_type": "stream",
     "text": [
      "Confusion matrix : \n",
      " [[  18    0    1    2    0   23]\n",
      " [   1  271   10    1    1   41]\n",
      " [   2   12  236    1    2    0]\n",
      " [   0   19    4    3    3    1]\n",
      " [   0    5    1    2 1429   44]\n",
      " [  12   14    0    1    9  865]]\n"
     ]
    }
   ],
   "source": [
    "cm = confusion_matrix(y_val, y_pred)\n",
    "print('Confusion matrix : \\n', cm)"
   ]
  },
  {
   "cell_type": "markdown",
   "id": "ad07262f",
   "metadata": {
    "papermill": {
     "duration": 0.033451,
     "end_time": "2024-08-09T14:31:21.142245",
     "exception": false,
     "start_time": "2024-08-09T14:31:21.108794",
     "status": "completed"
    },
    "tags": []
   },
   "source": [
    "# Submiting the model with highest accuracy"
   ]
  },
  {
   "cell_type": "code",
   "execution_count": 45,
   "id": "790e611b",
   "metadata": {
    "execution": {
     "iopub.execute_input": "2024-08-09T14:31:21.211529Z",
     "iopub.status.busy": "2024-08-09T14:31:21.211091Z",
     "iopub.status.idle": "2024-08-09T14:31:21.233005Z",
     "shell.execute_reply": "2024-08-09T14:31:21.231750Z"
    },
    "papermill": {
     "duration": 0.060083,
     "end_time": "2024-08-09T14:31:21.235982",
     "exception": false,
     "start_time": "2024-08-09T14:31:21.175899",
     "status": "completed"
    },
    "tags": []
   },
   "outputs": [],
   "source": [
    "sample = pd.read_csv(\"/kaggle/input/crime-cast-forecasting-crime-categories/sample.csv\")"
   ]
  },
  {
   "cell_type": "code",
   "execution_count": 46,
   "id": "6bcc884d",
   "metadata": {
    "execution": {
     "iopub.execute_input": "2024-08-09T14:31:21.306234Z",
     "iopub.status.busy": "2024-08-09T14:31:21.305812Z",
     "iopub.status.idle": "2024-08-09T14:31:21.373452Z",
     "shell.execute_reply": "2024-08-09T14:31:21.372212Z"
    },
    "papermill": {
     "duration": 0.105569,
     "end_time": "2024-08-09T14:31:21.376002",
     "exception": false,
     "start_time": "2024-08-09T14:31:21.270433",
     "status": "completed"
    },
    "tags": []
   },
   "outputs": [
    {
     "name": "stdout",
     "output_type": "stream",
     "text": [
      "(3809, 2256)\n"
     ]
    }
   ],
   "source": [
    "X_test = preprocessor.transform(df_test)\n",
    "print(X_test.shape)\n"
   ]
  },
  {
   "cell_type": "code",
   "execution_count": 47,
   "id": "77a98277",
   "metadata": {
    "execution": {
     "iopub.execute_input": "2024-08-09T14:31:21.446374Z",
     "iopub.status.busy": "2024-08-09T14:31:21.445957Z",
     "iopub.status.idle": "2024-08-09T14:31:21.502779Z",
     "shell.execute_reply": "2024-08-09T14:31:21.501802Z"
    },
    "papermill": {
     "duration": 0.095408,
     "end_time": "2024-08-09T14:31:21.505346",
     "exception": false,
     "start_time": "2024-08-09T14:31:21.409938",
     "status": "completed"
    },
    "tags": []
   },
   "outputs": [
    {
     "name": "stdout",
     "output_type": "stream",
     "text": [
      "[5 4 4 ... 5 5 4]\n",
      "['Violent Crimes' 'Property Crimes' 'Property Crimes' ... 'Violent Crimes'\n",
      " 'Violent Crimes' 'Property Crimes']\n"
     ]
    },
    {
     "data": {
      "text/plain": [
       "(3809,)"
      ]
     },
     "execution_count": 47,
     "metadata": {},
     "output_type": "execute_result"
    }
   ],
   "source": [
    "y_pred_final = model2.predict(X_test)\n",
    "print(y_pred_final)\n",
    "y_pred_=encoder_r.inverse_transform(y_pred_final)\n",
    "print(y_pred_)\n",
    "y_pred_.shape"
   ]
  },
  {
   "cell_type": "code",
   "execution_count": 48,
   "id": "cec8be6a",
   "metadata": {
    "execution": {
     "iopub.execute_input": "2024-08-09T14:31:21.576598Z",
     "iopub.status.busy": "2024-08-09T14:31:21.575593Z",
     "iopub.status.idle": "2024-08-09T14:31:21.593781Z",
     "shell.execute_reply": "2024-08-09T14:31:21.592634Z"
    },
    "papermill": {
     "duration": 0.056322,
     "end_time": "2024-08-09T14:31:21.596579",
     "exception": false,
     "start_time": "2024-08-09T14:31:21.540257",
     "status": "completed"
    },
    "tags": []
   },
   "outputs": [],
   "source": [
    "submission = pd.DataFrame({\"ID\": np.arange(1, len(y_pred_) + 1), \n",
    "                           \"Crime_Category\": y_pred_,\n",
    "                          }\n",
    "                         ) \n",
    "\n",
    "submission.to_csv('submission.csv',index=False)"
   ]
  },
  {
   "cell_type": "code",
   "execution_count": 49,
   "id": "bda4904c",
   "metadata": {
    "execution": {
     "iopub.execute_input": "2024-08-09T14:31:21.667561Z",
     "iopub.status.busy": "2024-08-09T14:31:21.666608Z",
     "iopub.status.idle": "2024-08-09T14:31:21.686843Z",
     "shell.execute_reply": "2024-08-09T14:31:21.685705Z"
    },
    "papermill": {
     "duration": 0.058468,
     "end_time": "2024-08-09T14:31:21.689270",
     "exception": false,
     "start_time": "2024-08-09T14:31:21.630802",
     "status": "completed"
    },
    "tags": []
   },
   "outputs": [
    {
     "data": {
      "text/plain": [
       "[nan,\n",
       " nan,\n",
       " nan,\n",
       " nan,\n",
       " nan,\n",
       " nan,\n",
       " nan,\n",
       " nan,\n",
       " nan,\n",
       " nan,\n",
       " nan,\n",
       " nan,\n",
       " nan,\n",
       " nan,\n",
       " nan,\n",
       " nan,\n",
       " nan,\n",
       " nan,\n",
       " nan,\n",
       " nan,\n",
       " nan,\n",
       " nan,\n",
       " nan,\n",
       " nan,\n",
       " nan,\n",
       " nan,\n",
       " nan,\n",
       " nan,\n",
       " nan,\n",
       " nan,\n",
       " nan,\n",
       " nan,\n",
       " nan,\n",
       " nan,\n",
       " nan,\n",
       " nan,\n",
       " nan,\n",
       " nan,\n",
       " nan,\n",
       " nan,\n",
       " nan,\n",
       " nan,\n",
       " nan,\n",
       " nan,\n",
       " nan,\n",
       " nan,\n",
       " nan,\n",
       " nan,\n",
       " nan,\n",
       " nan,\n",
       " nan,\n",
       " nan,\n",
       " nan,\n",
       " nan,\n",
       " nan,\n",
       " nan,\n",
       " nan,\n",
       " nan,\n",
       " nan,\n",
       " nan,\n",
       " nan,\n",
       " nan,\n",
       " nan,\n",
       " nan,\n",
       " nan,\n",
       " nan,\n",
       " nan,\n",
       " nan,\n",
       " nan,\n",
       " nan,\n",
       " nan,\n",
       " nan,\n",
       " nan,\n",
       " nan,\n",
       " nan,\n",
       " nan,\n",
       " nan,\n",
       " nan,\n",
       " nan,\n",
       " nan,\n",
       " nan,\n",
       " nan,\n",
       " nan,\n",
       " nan,\n",
       " nan,\n",
       " nan,\n",
       " nan,\n",
       " nan,\n",
       " nan,\n",
       " nan,\n",
       " nan,\n",
       " nan,\n",
       " nan,\n",
       " nan,\n",
       " nan,\n",
       " nan,\n",
       " nan,\n",
       " nan,\n",
       " nan,\n",
       " nan,\n",
       " nan,\n",
       " nan,\n",
       " nan,\n",
       " nan,\n",
       " nan,\n",
       " nan,\n",
       " nan,\n",
       " nan,\n",
       " nan,\n",
       " nan,\n",
       " nan,\n",
       " nan,\n",
       " nan,\n",
       " nan,\n",
       " nan,\n",
       " nan,\n",
       " nan,\n",
       " nan,\n",
       " nan,\n",
       " nan,\n",
       " nan,\n",
       " nan,\n",
       " nan,\n",
       " nan,\n",
       " nan,\n",
       " nan,\n",
       " nan,\n",
       " nan,\n",
       " nan,\n",
       " nan,\n",
       " nan,\n",
       " nan,\n",
       " nan,\n",
       " nan,\n",
       " nan,\n",
       " nan,\n",
       " nan,\n",
       " nan,\n",
       " nan,\n",
       " nan,\n",
       " nan,\n",
       " nan,\n",
       " nan,\n",
       " nan,\n",
       " nan,\n",
       " nan,\n",
       " nan,\n",
       " nan,\n",
       " nan,\n",
       " nan,\n",
       " nan,\n",
       " nan,\n",
       " nan,\n",
       " nan,\n",
       " nan,\n",
       " nan,\n",
       " nan,\n",
       " nan,\n",
       " nan,\n",
       " nan,\n",
       " nan,\n",
       " nan,\n",
       " nan,\n",
       " nan,\n",
       " nan,\n",
       " nan,\n",
       " nan,\n",
       " nan,\n",
       " nan,\n",
       " nan,\n",
       " nan,\n",
       " nan,\n",
       " nan,\n",
       " nan,\n",
       " nan,\n",
       " nan,\n",
       " nan,\n",
       " nan,\n",
       " nan,\n",
       " nan,\n",
       " nan,\n",
       " nan,\n",
       " nan,\n",
       " nan,\n",
       " nan,\n",
       " nan,\n",
       " nan,\n",
       " nan,\n",
       " nan,\n",
       " nan,\n",
       " nan,\n",
       " nan,\n",
       " nan,\n",
       " nan,\n",
       " nan,\n",
       " nan,\n",
       " nan,\n",
       " nan,\n",
       " nan,\n",
       " nan,\n",
       " nan,\n",
       " nan,\n",
       " nan,\n",
       " nan,\n",
       " nan,\n",
       " nan,\n",
       " nan,\n",
       " nan,\n",
       " nan,\n",
       " nan,\n",
       " nan,\n",
       " nan,\n",
       " nan,\n",
       " nan,\n",
       " nan,\n",
       " nan,\n",
       " nan,\n",
       " nan,\n",
       " nan,\n",
       " nan,\n",
       " nan,\n",
       " nan,\n",
       " nan,\n",
       " nan,\n",
       " nan,\n",
       " nan,\n",
       " nan,\n",
       " nan,\n",
       " nan,\n",
       " nan,\n",
       " nan,\n",
       " nan,\n",
       " nan,\n",
       " nan,\n",
       " nan,\n",
       " nan,\n",
       " nan,\n",
       " nan,\n",
       " nan,\n",
       " nan,\n",
       " nan,\n",
       " nan,\n",
       " nan,\n",
       " nan,\n",
       " nan,\n",
       " nan,\n",
       " nan,\n",
       " nan,\n",
       " nan,\n",
       " nan,\n",
       " nan,\n",
       " nan,\n",
       " nan,\n",
       " nan,\n",
       " nan,\n",
       " nan,\n",
       " nan,\n",
       " nan,\n",
       " nan,\n",
       " nan,\n",
       " nan,\n",
       " nan,\n",
       " nan,\n",
       " nan,\n",
       " nan,\n",
       " nan,\n",
       " nan,\n",
       " nan,\n",
       " nan,\n",
       " nan,\n",
       " nan,\n",
       " nan,\n",
       " nan,\n",
       " nan,\n",
       " nan,\n",
       " nan,\n",
       " nan,\n",
       " nan,\n",
       " nan,\n",
       " nan,\n",
       " nan,\n",
       " nan,\n",
       " nan,\n",
       " nan,\n",
       " nan,\n",
       " nan,\n",
       " nan,\n",
       " nan,\n",
       " nan,\n",
       " nan,\n",
       " nan,\n",
       " nan,\n",
       " nan,\n",
       " nan,\n",
       " nan,\n",
       " nan,\n",
       " nan,\n",
       " nan,\n",
       " nan,\n",
       " nan,\n",
       " nan,\n",
       " nan,\n",
       " nan,\n",
       " nan,\n",
       " nan,\n",
       " nan,\n",
       " nan,\n",
       " nan,\n",
       " nan,\n",
       " nan,\n",
       " nan,\n",
       " nan,\n",
       " nan,\n",
       " nan,\n",
       " nan,\n",
       " nan,\n",
       " nan,\n",
       " nan,\n",
       " nan,\n",
       " nan,\n",
       " nan,\n",
       " nan,\n",
       " nan,\n",
       " nan,\n",
       " nan,\n",
       " nan,\n",
       " nan,\n",
       " nan,\n",
       " nan,\n",
       " nan,\n",
       " nan,\n",
       " nan,\n",
       " nan,\n",
       " nan,\n",
       " nan,\n",
       " nan,\n",
       " nan,\n",
       " nan,\n",
       " nan,\n",
       " nan,\n",
       " nan,\n",
       " nan,\n",
       " nan,\n",
       " nan,\n",
       " nan,\n",
       " nan,\n",
       " nan,\n",
       " nan,\n",
       " nan,\n",
       " nan,\n",
       " nan,\n",
       " nan,\n",
       " nan,\n",
       " nan,\n",
       " nan,\n",
       " nan,\n",
       " nan,\n",
       " nan,\n",
       " nan,\n",
       " nan,\n",
       " nan,\n",
       " nan,\n",
       " nan,\n",
       " nan,\n",
       " nan,\n",
       " nan,\n",
       " nan,\n",
       " nan,\n",
       " nan,\n",
       " nan,\n",
       " nan,\n",
       " nan,\n",
       " nan,\n",
       " nan,\n",
       " nan,\n",
       " nan,\n",
       " nan,\n",
       " nan,\n",
       " nan,\n",
       " nan,\n",
       " nan,\n",
       " nan,\n",
       " nan,\n",
       " nan,\n",
       " nan,\n",
       " nan,\n",
       " nan,\n",
       " nan,\n",
       " nan,\n",
       " nan,\n",
       " nan,\n",
       " nan,\n",
       " nan,\n",
       " nan,\n",
       " nan,\n",
       " nan,\n",
       " nan,\n",
       " nan,\n",
       " nan,\n",
       " nan,\n",
       " nan,\n",
       " nan,\n",
       " nan,\n",
       " nan,\n",
       " nan,\n",
       " nan,\n",
       " nan,\n",
       " nan,\n",
       " nan,\n",
       " nan,\n",
       " nan,\n",
       " nan,\n",
       " nan,\n",
       " nan,\n",
       " nan,\n",
       " nan,\n",
       " nan,\n",
       " nan,\n",
       " nan,\n",
       " nan,\n",
       " nan,\n",
       " nan,\n",
       " nan,\n",
       " nan,\n",
       " nan,\n",
       " nan,\n",
       " nan,\n",
       " nan,\n",
       " nan,\n",
       " nan,\n",
       " nan,\n",
       " nan,\n",
       " nan,\n",
       " nan,\n",
       " nan,\n",
       " nan,\n",
       " nan,\n",
       " nan,\n",
       " nan,\n",
       " nan,\n",
       " nan,\n",
       " nan,\n",
       " nan,\n",
       " nan,\n",
       " nan,\n",
       " nan,\n",
       " nan,\n",
       " nan,\n",
       " nan,\n",
       " nan,\n",
       " nan,\n",
       " nan,\n",
       " nan,\n",
       " nan,\n",
       " nan,\n",
       " nan,\n",
       " nan,\n",
       " nan,\n",
       " nan,\n",
       " nan,\n",
       " nan,\n",
       " nan,\n",
       " nan,\n",
       " nan,\n",
       " nan,\n",
       " nan,\n",
       " nan,\n",
       " nan,\n",
       " nan,\n",
       " nan,\n",
       " nan,\n",
       " nan,\n",
       " nan,\n",
       " nan,\n",
       " nan,\n",
       " nan,\n",
       " nan,\n",
       " nan,\n",
       " nan,\n",
       " nan,\n",
       " nan,\n",
       " nan,\n",
       " nan,\n",
       " nan,\n",
       " nan,\n",
       " nan,\n",
       " nan,\n",
       " nan,\n",
       " nan,\n",
       " nan,\n",
       " nan,\n",
       " nan,\n",
       " nan,\n",
       " nan,\n",
       " nan,\n",
       " nan,\n",
       " nan,\n",
       " nan,\n",
       " nan,\n",
       " nan,\n",
       " nan,\n",
       " nan,\n",
       " nan,\n",
       " nan,\n",
       " nan,\n",
       " nan,\n",
       " nan,\n",
       " nan,\n",
       " nan,\n",
       " nan,\n",
       " nan,\n",
       " nan,\n",
       " nan,\n",
       " nan,\n",
       " nan,\n",
       " nan,\n",
       " nan,\n",
       " nan,\n",
       " nan,\n",
       " nan,\n",
       " nan,\n",
       " nan,\n",
       " nan,\n",
       " nan,\n",
       " nan,\n",
       " nan,\n",
       " nan,\n",
       " nan,\n",
       " nan,\n",
       " nan,\n",
       " nan,\n",
       " nan,\n",
       " nan,\n",
       " nan,\n",
       " nan,\n",
       " nan,\n",
       " nan,\n",
       " nan,\n",
       " nan,\n",
       " nan,\n",
       " nan,\n",
       " nan,\n",
       " nan,\n",
       " nan,\n",
       " nan,\n",
       " nan,\n",
       " nan,\n",
       " nan,\n",
       " nan,\n",
       " nan,\n",
       " nan,\n",
       " nan,\n",
       " nan,\n",
       " nan,\n",
       " nan,\n",
       " nan,\n",
       " nan,\n",
       " nan,\n",
       " nan,\n",
       " nan,\n",
       " nan,\n",
       " nan,\n",
       " nan,\n",
       " nan,\n",
       " nan,\n",
       " nan,\n",
       " nan,\n",
       " nan,\n",
       " nan,\n",
       " nan,\n",
       " nan,\n",
       " nan,\n",
       " nan,\n",
       " nan,\n",
       " nan,\n",
       " nan,\n",
       " nan,\n",
       " nan,\n",
       " nan,\n",
       " nan,\n",
       " nan,\n",
       " nan,\n",
       " nan,\n",
       " nan,\n",
       " nan,\n",
       " nan,\n",
       " nan,\n",
       " nan,\n",
       " nan,\n",
       " nan,\n",
       " nan,\n",
       " nan,\n",
       " nan,\n",
       " nan,\n",
       " nan,\n",
       " nan,\n",
       " nan,\n",
       " nan,\n",
       " nan,\n",
       " nan,\n",
       " nan,\n",
       " nan,\n",
       " nan,\n",
       " nan,\n",
       " nan,\n",
       " nan,\n",
       " nan,\n",
       " nan,\n",
       " nan,\n",
       " nan,\n",
       " nan,\n",
       " nan,\n",
       " nan,\n",
       " nan,\n",
       " nan,\n",
       " nan,\n",
       " nan,\n",
       " nan,\n",
       " nan,\n",
       " nan,\n",
       " nan,\n",
       " nan,\n",
       " nan,\n",
       " nan,\n",
       " nan,\n",
       " nan,\n",
       " nan,\n",
       " nan,\n",
       " nan,\n",
       " nan,\n",
       " nan,\n",
       " nan,\n",
       " nan,\n",
       " nan,\n",
       " nan,\n",
       " nan,\n",
       " nan,\n",
       " nan,\n",
       " nan,\n",
       " nan,\n",
       " nan,\n",
       " nan,\n",
       " nan,\n",
       " nan,\n",
       " nan,\n",
       " nan,\n",
       " nan,\n",
       " nan,\n",
       " nan,\n",
       " nan,\n",
       " nan,\n",
       " nan,\n",
       " nan,\n",
       " nan,\n",
       " nan,\n",
       " nan,\n",
       " nan,\n",
       " nan,\n",
       " nan,\n",
       " nan,\n",
       " nan,\n",
       " nan,\n",
       " nan,\n",
       " nan,\n",
       " nan,\n",
       " nan,\n",
       " nan,\n",
       " nan,\n",
       " nan,\n",
       " nan,\n",
       " nan,\n",
       " nan,\n",
       " nan,\n",
       " nan,\n",
       " nan,\n",
       " nan,\n",
       " nan,\n",
       " nan,\n",
       " nan,\n",
       " nan,\n",
       " nan,\n",
       " nan,\n",
       " nan,\n",
       " nan,\n",
       " nan,\n",
       " nan,\n",
       " nan,\n",
       " nan,\n",
       " nan,\n",
       " nan,\n",
       " nan,\n",
       " nan,\n",
       " nan,\n",
       " nan,\n",
       " nan,\n",
       " nan,\n",
       " nan,\n",
       " nan,\n",
       " nan,\n",
       " nan,\n",
       " nan,\n",
       " nan,\n",
       " nan,\n",
       " nan,\n",
       " nan,\n",
       " nan,\n",
       " nan,\n",
       " nan,\n",
       " nan,\n",
       " nan,\n",
       " nan,\n",
       " nan,\n",
       " nan,\n",
       " nan,\n",
       " nan,\n",
       " nan,\n",
       " nan,\n",
       " nan,\n",
       " nan,\n",
       " nan,\n",
       " nan,\n",
       " nan,\n",
       " nan,\n",
       " nan,\n",
       " nan,\n",
       " nan,\n",
       " nan,\n",
       " nan,\n",
       " nan,\n",
       " nan,\n",
       " nan,\n",
       " nan,\n",
       " nan,\n",
       " nan,\n",
       " nan,\n",
       " nan,\n",
       " nan,\n",
       " nan,\n",
       " nan,\n",
       " nan,\n",
       " nan,\n",
       " nan,\n",
       " nan,\n",
       " nan,\n",
       " nan,\n",
       " nan,\n",
       " nan,\n",
       " nan,\n",
       " nan,\n",
       " nan,\n",
       " nan,\n",
       " nan,\n",
       " nan,\n",
       " nan,\n",
       " nan,\n",
       " nan,\n",
       " nan,\n",
       " nan,\n",
       " nan,\n",
       " nan,\n",
       " nan,\n",
       " nan,\n",
       " nan,\n",
       " nan,\n",
       " nan,\n",
       " nan,\n",
       " nan,\n",
       " nan,\n",
       " nan,\n",
       " nan,\n",
       " nan,\n",
       " nan,\n",
       " nan,\n",
       " nan,\n",
       " nan,\n",
       " nan,\n",
       " nan,\n",
       " nan,\n",
       " nan,\n",
       " nan,\n",
       " nan,\n",
       " nan,\n",
       " nan,\n",
       " nan,\n",
       " nan,\n",
       " nan,\n",
       " nan,\n",
       " nan,\n",
       " nan,\n",
       " nan,\n",
       " nan,\n",
       " nan,\n",
       " nan,\n",
       " nan,\n",
       " nan,\n",
       " nan,\n",
       " nan,\n",
       " nan,\n",
       " nan,\n",
       " nan,\n",
       " nan,\n",
       " nan,\n",
       " nan,\n",
       " nan,\n",
       " nan,\n",
       " nan,\n",
       " nan,\n",
       " nan,\n",
       " nan,\n",
       " nan,\n",
       " nan,\n",
       " nan,\n",
       " nan,\n",
       " nan,\n",
       " nan,\n",
       " nan,\n",
       " nan,\n",
       " nan,\n",
       " nan,\n",
       " nan,\n",
       " nan,\n",
       " nan,\n",
       " nan,\n",
       " nan,\n",
       " nan,\n",
       " nan,\n",
       " nan,\n",
       " nan,\n",
       " nan,\n",
       " nan,\n",
       " nan,\n",
       " nan,\n",
       " nan,\n",
       " nan,\n",
       " nan,\n",
       " nan,\n",
       " nan,\n",
       " nan,\n",
       " nan,\n",
       " nan,\n",
       " nan,\n",
       " nan,\n",
       " nan,\n",
       " nan,\n",
       " nan,\n",
       " nan,\n",
       " nan,\n",
       " nan,\n",
       " nan,\n",
       " nan,\n",
       " nan,\n",
       " nan,\n",
       " nan,\n",
       " nan,\n",
       " nan,\n",
       " nan,\n",
       " nan,\n",
       " nan,\n",
       " nan,\n",
       " nan,\n",
       " nan,\n",
       " nan,\n",
       " nan,\n",
       " nan,\n",
       " nan,\n",
       " nan,\n",
       " nan,\n",
       " nan,\n",
       " nan,\n",
       " nan,\n",
       " nan,\n",
       " nan,\n",
       " nan,\n",
       " nan,\n",
       " nan,\n",
       " nan,\n",
       " nan,\n",
       " nan,\n",
       " nan,\n",
       " nan,\n",
       " nan,\n",
       " nan,\n",
       " nan,\n",
       " nan,\n",
       " nan,\n",
       " nan,\n",
       " nan,\n",
       " nan,\n",
       " nan,\n",
       " nan,\n",
       " nan,\n",
       " nan,\n",
       " nan,\n",
       " nan,\n",
       " nan,\n",
       " nan,\n",
       " nan,\n",
       " nan,\n",
       " nan,\n",
       " nan,\n",
       " nan,\n",
       " nan,\n",
       " nan,\n",
       " nan,\n",
       " nan,\n",
       " nan,\n",
       " nan,\n",
       " nan,\n",
       " nan,\n",
       " nan,\n",
       " nan,\n",
       " nan,\n",
       " nan,\n",
       " nan,\n",
       " nan,\n",
       " nan,\n",
       " nan,\n",
       " nan,\n",
       " nan,\n",
       " nan,\n",
       " nan,\n",
       " nan,\n",
       " nan,\n",
       " nan,\n",
       " nan,\n",
       " nan,\n",
       " nan,\n",
       " nan,\n",
       " nan,\n",
       " nan,\n",
       " nan,\n",
       " nan,\n",
       " nan,\n",
       " nan,\n",
       " nan,\n",
       " nan,\n",
       " nan,\n",
       " nan,\n",
       " nan,\n",
       " nan,\n",
       " nan,\n",
       " nan,\n",
       " nan,\n",
       " nan,\n",
       " nan,\n",
       " nan,\n",
       " nan,\n",
       " nan,\n",
       " nan,\n",
       " nan,\n",
       " nan,\n",
       " nan,\n",
       " nan,\n",
       " nan,\n",
       " nan,\n",
       " nan,\n",
       " nan,\n",
       " nan,\n",
       " nan,\n",
       " nan,\n",
       " nan,\n",
       " nan,\n",
       " nan,\n",
       " nan,\n",
       " nan,\n",
       " nan,\n",
       " nan,\n",
       " nan,\n",
       " nan,\n",
       " nan,\n",
       " nan,\n",
       " nan,\n",
       " nan,\n",
       " nan,\n",
       " nan,\n",
       " nan,\n",
       " nan,\n",
       " nan,\n",
       " nan,\n",
       " nan,\n",
       " nan,\n",
       " nan,\n",
       " nan,\n",
       " nan,\n",
       " nan,\n",
       " nan,\n",
       " nan,\n",
       " nan,\n",
       " nan,\n",
       " nan,\n",
       " nan,\n",
       " nan,\n",
       " nan,\n",
       " nan,\n",
       " nan,\n",
       " nan,\n",
       " nan,\n",
       " nan,\n",
       " nan,\n",
       " nan,\n",
       " ...]"
      ]
     },
     "execution_count": 49,
     "metadata": {},
     "output_type": "execute_result"
    }
   ],
   "source": [
    "5000*[np.NaN]"
   ]
  },
  {
   "cell_type": "code",
   "execution_count": null,
   "id": "dd1779a0",
   "metadata": {
    "papermill": {
     "duration": 0.035434,
     "end_time": "2024-08-09T14:31:21.759944",
     "exception": false,
     "start_time": "2024-08-09T14:31:21.724510",
     "status": "completed"
    },
    "tags": []
   },
   "outputs": [],
   "source": []
  }
 ],
 "metadata": {
  "kaggle": {
   "accelerator": "none",
   "dataSources": [
    {
     "databundleVersionId": 8446444,
     "sourceId": 77420,
     "sourceType": "competition"
    }
   ],
   "dockerImageVersionId": 30732,
   "isGpuEnabled": false,
   "isInternetEnabled": false,
   "language": "python",
   "sourceType": "notebook"
  },
  "kernelspec": {
   "display_name": "Python 3",
   "language": "python",
   "name": "python3"
  },
  "language_info": {
   "codemirror_mode": {
    "name": "ipython",
    "version": 3
   },
   "file_extension": ".py",
   "mimetype": "text/x-python",
   "name": "python",
   "nbconvert_exporter": "python",
   "pygments_lexer": "ipython3",
   "version": "3.10.13"
  },
  "papermill": {
   "default_parameters": {},
   "duration": 1606.142564,
   "end_time": "2024-08-09T14:31:24.420733",
   "environment_variables": {},
   "exception": null,
   "input_path": "__notebook__.ipynb",
   "output_path": "__notebook__.ipynb",
   "parameters": {},
   "start_time": "2024-08-09T14:04:38.278169",
   "version": "2.5.0"
  }
 },
 "nbformat": 4,
 "nbformat_minor": 5
}
